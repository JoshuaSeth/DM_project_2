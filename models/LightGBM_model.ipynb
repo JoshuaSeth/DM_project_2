{
  "nbformat": 4,
  "nbformat_minor": 0,
  "metadata": {
    "colab": {
      "name": "Untitled3.ipynb",
      "provenance": [],
      "collapsed_sections": [],
      "toc_visible": true
    },
    "kernelspec": {
      "name": "python3",
      "display_name": "Python 3"
    },
    "language_info": {
      "name": "python"
    }
  },
  "cells": [
    {
      "cell_type": "markdown",
      "source": [
        "#Imports"
      ],
      "metadata": {
        "id": "4dKtqG7NjJ_r"
      }
    },
    {
      "cell_type": "code",
      "execution_count": null,
      "metadata": {
        "id": "HW-FvB1_XK_1"
      },
      "outputs": [],
      "source": [
        "import pandas as pd\n",
        "import numpy as np\n",
        "from datetime import datetime\n",
        "import lightgbm"
      ]
    },
    {
      "cell_type": "markdown",
      "source": [
        "#Loading and checking data"
      ],
      "metadata": {
        "id": "XW1iY7LAjImW"
      }
    },
    {
      "cell_type": "code",
      "source": [
        "df = pd.read_csv('drive/MyDrive/training_set_VU_DM.csv', nrows=1000000)"
      ],
      "metadata": {
        "id": "5J6EeE2WXOVE"
      },
      "execution_count": null,
      "outputs": []
    },
    {
      "cell_type": "code",
      "source": [
        "del df # delete from memory after training to prevent runtime crashes and restarts "
      ],
      "metadata": {
        "id": "fApVxtrXgfEl"
      },
      "execution_count": null,
      "outputs": []
    },
    {
      "cell_type": "code",
      "source": [
        "df_test = pd.read_csv('drive/MyDrive/test_set_VU_DM.csv')#, nrows=100000)"
      ],
      "metadata": {
        "id": "HbcICpwjnOnf"
      },
      "execution_count": null,
      "outputs": []
    },
    {
      "cell_type": "code",
      "source": [
        "print(df_test.columns)\n",
        "print(df.shape)"
      ],
      "metadata": {
        "colab": {
          "base_uri": "https://localhost:8080/"
        },
        "id": "O8s5JAuh-sqh",
        "outputId": "f1f752c8-1ed1-43a6-830f-d0d4238f4051"
      },
      "execution_count": null,
      "outputs": [
        {
          "output_type": "stream",
          "name": "stdout",
          "text": [
            "Index(['srch_id', 'date_time', 'site_id', 'visitor_location_country_id',\n",
            "       'visitor_hist_starrating', 'visitor_hist_adr_usd', 'prop_country_id',\n",
            "       'prop_id', 'prop_starrating', 'prop_review_score', 'prop_brand_bool',\n",
            "       'prop_location_score1', 'prop_location_score2',\n",
            "       'prop_log_historical_price', 'price_usd', 'promotion_flag',\n",
            "       'srch_destination_id', 'srch_length_of_stay', 'srch_booking_window',\n",
            "       'srch_adults_count', 'srch_children_count', 'srch_room_count',\n",
            "       'srch_saturday_night_bool', 'srch_query_affinity_score',\n",
            "       'orig_destination_distance', 'random_bool', 'comp1_rate', 'comp1_inv',\n",
            "       'comp1_rate_percent_diff', 'comp2_rate', 'comp2_inv',\n",
            "       'comp2_rate_percent_diff', 'comp3_rate', 'comp3_inv',\n",
            "       'comp3_rate_percent_diff', 'comp4_rate', 'comp4_inv',\n",
            "       'comp4_rate_percent_diff', 'comp5_rate', 'comp5_inv',\n",
            "       'comp5_rate_percent_diff', 'comp6_rate', 'comp6_inv',\n",
            "       'comp6_rate_percent_diff', 'comp7_rate', 'comp7_inv',\n",
            "       'comp7_rate_percent_diff', 'comp8_rate', 'comp8_inv',\n",
            "       'comp8_rate_percent_diff'],\n",
            "      dtype='object')\n",
            "(1000000, 54)\n"
          ]
        }
      ]
    },
    {
      "cell_type": "markdown",
      "source": [
        "#Making Training and evaluation data for the model"
      ],
      "metadata": {
        "id": "AibQQtYNjSjw"
      }
    },
    {
      "cell_type": "code",
      "source": [
        "df = df.dropna(axis=1)\n",
        "print(df.shape)\n",
        "df_train = df[:800000]\n",
        "df_eval = df[800000:]\n",
        "\n",
        "qids_train = df_train.groupby('srch_id')['srch_id'].count().to_numpy()\n",
        "y_train = df_train['booking_bool']\n",
        "X_train = df_train.drop(['date_time', 'random_bool', 'click_bool', 'booking_bool', 'position', 'site_id'], axis=1)\n",
        "\n",
        "qids_eval = df_eval.groupby('srch_id')['srch_id'].count().to_numpy()\n",
        "y_eval = df_eval['booking_bool']\n",
        "X_eval = df_eval.drop(['date_time', 'random_bool', 'click_bool', 'booking_bool', 'position', 'site_id'], axis=1)"
      ],
      "metadata": {
        "id": "ik22gsOa8vRq",
        "colab": {
          "base_uri": "https://localhost:8080/"
        },
        "outputId": "a070f9a1-9c2e-4dde-e92f-9c6320f631a9"
      },
      "execution_count": null,
      "outputs": [
        {
          "output_type": "stream",
          "name": "stdout",
          "text": [
            "(1000000, 23)\n"
          ]
        }
      ]
    },
    {
      "cell_type": "markdown",
      "source": [
        "#Training a simple lightgbm model with the objective lambdaRank"
      ],
      "metadata": {
        "id": "rX22mbgKjXGk"
      }
    },
    {
      "cell_type": "code",
      "source": [
        "model = lightgbm.LGBMRanker(objective='lambdarank', metric='ndcg')\n",
        "model.fit(\n",
        "    X=X_train,\n",
        "    y=y_train,\n",
        "    group=qids_train,\n",
        "    eval_set=[(X_eval, y_eval)],\n",
        "    eval_group=[qids_eval],\n",
        "    eval_at=[5, 10, 20, 50],\n",
        "    early_stopping_rounds=100,\n",
        ")"
      ],
      "metadata": {
        "colab": {
          "base_uri": "https://localhost:8080/"
        },
        "id": "vO8sbWQk-ASR",
        "outputId": "5e4e94ed-e4ea-40c4-f828-b6d3704d69a4"
      },
      "execution_count": null,
      "outputs": [
        {
          "output_type": "stream",
          "name": "stdout",
          "text": [
            "[1]\tvalid_0's ndcg@5: 0.492969\tvalid_0's ndcg@10: 0.540524\tvalid_0's ndcg@20: 0.582007\tvalid_0's ndcg@50: 0.60121\n",
            "Training until validation scores don't improve for 100 rounds.\n",
            "[2]\tvalid_0's ndcg@5: 0.494726\tvalid_0's ndcg@10: 0.543152\tvalid_0's ndcg@20: 0.583886\tvalid_0's ndcg@50: 0.602951\n",
            "[3]\tvalid_0's ndcg@5: 0.49785\tvalid_0's ndcg@10: 0.547382\tvalid_0's ndcg@20: 0.587057\tvalid_0's ndcg@50: 0.605709\n",
            "[4]\tvalid_0's ndcg@5: 0.501605\tvalid_0's ndcg@10: 0.550864\tvalid_0's ndcg@20: 0.590038\tvalid_0's ndcg@50: 0.608289\n",
            "[5]\tvalid_0's ndcg@5: 0.502322\tvalid_0's ndcg@10: 0.551538\tvalid_0's ndcg@20: 0.59035\tvalid_0's ndcg@50: 0.608615\n",
            "[6]\tvalid_0's ndcg@5: 0.50541\tvalid_0's ndcg@10: 0.553088\tvalid_0's ndcg@20: 0.592502\tvalid_0's ndcg@50: 0.610396\n",
            "[7]\tvalid_0's ndcg@5: 0.507229\tvalid_0's ndcg@10: 0.553765\tvalid_0's ndcg@20: 0.593329\tvalid_0's ndcg@50: 0.611254\n",
            "[8]\tvalid_0's ndcg@5: 0.507806\tvalid_0's ndcg@10: 0.555363\tvalid_0's ndcg@20: 0.594544\tvalid_0's ndcg@50: 0.612608\n",
            "[9]\tvalid_0's ndcg@5: 0.509286\tvalid_0's ndcg@10: 0.555894\tvalid_0's ndcg@20: 0.59503\tvalid_0's ndcg@50: 0.613259\n",
            "[10]\tvalid_0's ndcg@5: 0.509768\tvalid_0's ndcg@10: 0.55632\tvalid_0's ndcg@20: 0.595294\tvalid_0's ndcg@50: 0.61346\n",
            "[11]\tvalid_0's ndcg@5: 0.508426\tvalid_0's ndcg@10: 0.555659\tvalid_0's ndcg@20: 0.594601\tvalid_0's ndcg@50: 0.612646\n",
            "[12]\tvalid_0's ndcg@5: 0.50909\tvalid_0's ndcg@10: 0.556117\tvalid_0's ndcg@20: 0.595299\tvalid_0's ndcg@50: 0.61315\n",
            "[13]\tvalid_0's ndcg@5: 0.508497\tvalid_0's ndcg@10: 0.556533\tvalid_0's ndcg@20: 0.595518\tvalid_0's ndcg@50: 0.613056\n",
            "[14]\tvalid_0's ndcg@5: 0.510044\tvalid_0's ndcg@10: 0.557323\tvalid_0's ndcg@20: 0.596648\tvalid_0's ndcg@50: 0.613991\n",
            "[15]\tvalid_0's ndcg@5: 0.510716\tvalid_0's ndcg@10: 0.557816\tvalid_0's ndcg@20: 0.597323\tvalid_0's ndcg@50: 0.614561\n",
            "[16]\tvalid_0's ndcg@5: 0.511544\tvalid_0's ndcg@10: 0.557972\tvalid_0's ndcg@20: 0.597525\tvalid_0's ndcg@50: 0.614786\n",
            "[17]\tvalid_0's ndcg@5: 0.511736\tvalid_0's ndcg@10: 0.558301\tvalid_0's ndcg@20: 0.597755\tvalid_0's ndcg@50: 0.614959\n",
            "[18]\tvalid_0's ndcg@5: 0.512505\tvalid_0's ndcg@10: 0.558501\tvalid_0's ndcg@20: 0.598195\tvalid_0's ndcg@50: 0.615241\n",
            "[19]\tvalid_0's ndcg@5: 0.512839\tvalid_0's ndcg@10: 0.5588\tvalid_0's ndcg@20: 0.598275\tvalid_0's ndcg@50: 0.615318\n",
            "[20]\tvalid_0's ndcg@5: 0.513689\tvalid_0's ndcg@10: 0.560256\tvalid_0's ndcg@20: 0.599354\tvalid_0's ndcg@50: 0.616293\n",
            "[21]\tvalid_0's ndcg@5: 0.514285\tvalid_0's ndcg@10: 0.56076\tvalid_0's ndcg@20: 0.599656\tvalid_0's ndcg@50: 0.616761\n",
            "[22]\tvalid_0's ndcg@5: 0.513289\tvalid_0's ndcg@10: 0.560468\tvalid_0's ndcg@20: 0.599065\tvalid_0's ndcg@50: 0.616251\n",
            "[23]\tvalid_0's ndcg@5: 0.512984\tvalid_0's ndcg@10: 0.560894\tvalid_0's ndcg@20: 0.599217\tvalid_0's ndcg@50: 0.616493\n",
            "[24]\tvalid_0's ndcg@5: 0.513102\tvalid_0's ndcg@10: 0.561217\tvalid_0's ndcg@20: 0.599252\tvalid_0's ndcg@50: 0.616418\n",
            "[25]\tvalid_0's ndcg@5: 0.512388\tvalid_0's ndcg@10: 0.560686\tvalid_0's ndcg@20: 0.598902\tvalid_0's ndcg@50: 0.616179\n",
            "[26]\tvalid_0's ndcg@5: 0.513324\tvalid_0's ndcg@10: 0.561358\tvalid_0's ndcg@20: 0.599367\tvalid_0's ndcg@50: 0.616475\n",
            "[27]\tvalid_0's ndcg@5: 0.513485\tvalid_0's ndcg@10: 0.561459\tvalid_0's ndcg@20: 0.599641\tvalid_0's ndcg@50: 0.616643\n",
            "[28]\tvalid_0's ndcg@5: 0.513233\tvalid_0's ndcg@10: 0.561619\tvalid_0's ndcg@20: 0.599569\tvalid_0's ndcg@50: 0.616572\n",
            "[29]\tvalid_0's ndcg@5: 0.513616\tvalid_0's ndcg@10: 0.561803\tvalid_0's ndcg@20: 0.599688\tvalid_0's ndcg@50: 0.616726\n",
            "[30]\tvalid_0's ndcg@5: 0.514092\tvalid_0's ndcg@10: 0.562351\tvalid_0's ndcg@20: 0.600083\tvalid_0's ndcg@50: 0.616953\n",
            "[31]\tvalid_0's ndcg@5: 0.514461\tvalid_0's ndcg@10: 0.562828\tvalid_0's ndcg@20: 0.600315\tvalid_0's ndcg@50: 0.617182\n",
            "[32]\tvalid_0's ndcg@5: 0.515351\tvalid_0's ndcg@10: 0.563436\tvalid_0's ndcg@20: 0.600912\tvalid_0's ndcg@50: 0.617645\n",
            "[33]\tvalid_0's ndcg@5: 0.51494\tvalid_0's ndcg@10: 0.563295\tvalid_0's ndcg@20: 0.600739\tvalid_0's ndcg@50: 0.617469\n",
            "[34]\tvalid_0's ndcg@5: 0.514932\tvalid_0's ndcg@10: 0.563568\tvalid_0's ndcg@20: 0.600747\tvalid_0's ndcg@50: 0.617478\n",
            "[35]\tvalid_0's ndcg@5: 0.514865\tvalid_0's ndcg@10: 0.563279\tvalid_0's ndcg@20: 0.600453\tvalid_0's ndcg@50: 0.617351\n",
            "[36]\tvalid_0's ndcg@5: 0.514862\tvalid_0's ndcg@10: 0.563561\tvalid_0's ndcg@20: 0.600732\tvalid_0's ndcg@50: 0.617491\n",
            "[37]\tvalid_0's ndcg@5: 0.515024\tvalid_0's ndcg@10: 0.563563\tvalid_0's ndcg@20: 0.600983\tvalid_0's ndcg@50: 0.617638\n",
            "[38]\tvalid_0's ndcg@5: 0.514962\tvalid_0's ndcg@10: 0.563702\tvalid_0's ndcg@20: 0.600823\tvalid_0's ndcg@50: 0.617563\n",
            "[39]\tvalid_0's ndcg@5: 0.514581\tvalid_0's ndcg@10: 0.562984\tvalid_0's ndcg@20: 0.600343\tvalid_0's ndcg@50: 0.617084\n",
            "[40]\tvalid_0's ndcg@5: 0.514693\tvalid_0's ndcg@10: 0.563448\tvalid_0's ndcg@20: 0.600499\tvalid_0's ndcg@50: 0.617155\n",
            "[41]\tvalid_0's ndcg@5: 0.515194\tvalid_0's ndcg@10: 0.564021\tvalid_0's ndcg@20: 0.600899\tvalid_0's ndcg@50: 0.617636\n",
            "[42]\tvalid_0's ndcg@5: 0.515195\tvalid_0's ndcg@10: 0.564295\tvalid_0's ndcg@20: 0.601285\tvalid_0's ndcg@50: 0.617862\n",
            "[43]\tvalid_0's ndcg@5: 0.515264\tvalid_0's ndcg@10: 0.564081\tvalid_0's ndcg@20: 0.601251\tvalid_0's ndcg@50: 0.617883\n",
            "[44]\tvalid_0's ndcg@5: 0.515674\tvalid_0's ndcg@10: 0.564424\tvalid_0's ndcg@20: 0.601402\tvalid_0's ndcg@50: 0.617979\n",
            "[45]\tvalid_0's ndcg@5: 0.515809\tvalid_0's ndcg@10: 0.564357\tvalid_0's ndcg@20: 0.601485\tvalid_0's ndcg@50: 0.617982\n",
            "[46]\tvalid_0's ndcg@5: 0.515618\tvalid_0's ndcg@10: 0.564296\tvalid_0's ndcg@20: 0.601604\tvalid_0's ndcg@50: 0.617989\n",
            "[47]\tvalid_0's ndcg@5: 0.516116\tvalid_0's ndcg@10: 0.565101\tvalid_0's ndcg@20: 0.602299\tvalid_0's ndcg@50: 0.618432\n",
            "[48]\tvalid_0's ndcg@5: 0.516986\tvalid_0's ndcg@10: 0.565376\tvalid_0's ndcg@20: 0.602638\tvalid_0's ndcg@50: 0.618887\n",
            "[49]\tvalid_0's ndcg@5: 0.517422\tvalid_0's ndcg@10: 0.565667\tvalid_0's ndcg@20: 0.602803\tvalid_0's ndcg@50: 0.619075\n",
            "[50]\tvalid_0's ndcg@5: 0.518359\tvalid_0's ndcg@10: 0.566321\tvalid_0's ndcg@20: 0.603424\tvalid_0's ndcg@50: 0.619833\n",
            "[51]\tvalid_0's ndcg@5: 0.518762\tvalid_0's ndcg@10: 0.566628\tvalid_0's ndcg@20: 0.60362\tvalid_0's ndcg@50: 0.620005\n",
            "[52]\tvalid_0's ndcg@5: 0.519184\tvalid_0's ndcg@10: 0.566682\tvalid_0's ndcg@20: 0.603662\tvalid_0's ndcg@50: 0.62013\n",
            "[53]\tvalid_0's ndcg@5: 0.519348\tvalid_0's ndcg@10: 0.566806\tvalid_0's ndcg@20: 0.603729\tvalid_0's ndcg@50: 0.620112\n",
            "[54]\tvalid_0's ndcg@5: 0.519037\tvalid_0's ndcg@10: 0.566543\tvalid_0's ndcg@20: 0.603709\tvalid_0's ndcg@50: 0.619979\n",
            "[55]\tvalid_0's ndcg@5: 0.519168\tvalid_0's ndcg@10: 0.566696\tvalid_0's ndcg@20: 0.603983\tvalid_0's ndcg@50: 0.62011\n",
            "[56]\tvalid_0's ndcg@5: 0.518928\tvalid_0's ndcg@10: 0.567246\tvalid_0's ndcg@20: 0.60401\tvalid_0's ndcg@50: 0.620226\n",
            "[57]\tvalid_0's ndcg@5: 0.518801\tvalid_0's ndcg@10: 0.566933\tvalid_0's ndcg@20: 0.603821\tvalid_0's ndcg@50: 0.620096\n",
            "[58]\tvalid_0's ndcg@5: 0.517854\tvalid_0's ndcg@10: 0.56647\tvalid_0's ndcg@20: 0.603221\tvalid_0's ndcg@50: 0.619499\n",
            "[59]\tvalid_0's ndcg@5: 0.517847\tvalid_0's ndcg@10: 0.566242\tvalid_0's ndcg@20: 0.603294\tvalid_0's ndcg@50: 0.619601\n",
            "[60]\tvalid_0's ndcg@5: 0.518272\tvalid_0's ndcg@10: 0.566712\tvalid_0's ndcg@20: 0.603778\tvalid_0's ndcg@50: 0.619918\n",
            "[61]\tvalid_0's ndcg@5: 0.518869\tvalid_0's ndcg@10: 0.567424\tvalid_0's ndcg@20: 0.60462\tvalid_0's ndcg@50: 0.620652\n",
            "[62]\tvalid_0's ndcg@5: 0.519077\tvalid_0's ndcg@10: 0.567821\tvalid_0's ndcg@20: 0.604823\tvalid_0's ndcg@50: 0.620747\n",
            "[63]\tvalid_0's ndcg@5: 0.519307\tvalid_0's ndcg@10: 0.568159\tvalid_0's ndcg@20: 0.605274\tvalid_0's ndcg@50: 0.621149\n",
            "[64]\tvalid_0's ndcg@5: 0.519689\tvalid_0's ndcg@10: 0.568402\tvalid_0's ndcg@20: 0.605334\tvalid_0's ndcg@50: 0.621293\n",
            "[65]\tvalid_0's ndcg@5: 0.519604\tvalid_0's ndcg@10: 0.568121\tvalid_0's ndcg@20: 0.604955\tvalid_0's ndcg@50: 0.620882\n",
            "[66]\tvalid_0's ndcg@5: 0.519717\tvalid_0's ndcg@10: 0.56815\tvalid_0's ndcg@20: 0.604762\tvalid_0's ndcg@50: 0.620889\n",
            "[67]\tvalid_0's ndcg@5: 0.519626\tvalid_0's ndcg@10: 0.568005\tvalid_0's ndcg@20: 0.605069\tvalid_0's ndcg@50: 0.62111\n",
            "[68]\tvalid_0's ndcg@5: 0.520148\tvalid_0's ndcg@10: 0.568379\tvalid_0's ndcg@20: 0.605283\tvalid_0's ndcg@50: 0.621214\n",
            "[69]\tvalid_0's ndcg@5: 0.520234\tvalid_0's ndcg@10: 0.568313\tvalid_0's ndcg@20: 0.605201\tvalid_0's ndcg@50: 0.621134\n",
            "[70]\tvalid_0's ndcg@5: 0.519629\tvalid_0's ndcg@10: 0.567941\tvalid_0's ndcg@20: 0.605272\tvalid_0's ndcg@50: 0.621266\n",
            "[71]\tvalid_0's ndcg@5: 0.520192\tvalid_0's ndcg@10: 0.56813\tvalid_0's ndcg@20: 0.60546\tvalid_0's ndcg@50: 0.621427\n",
            "[72]\tvalid_0's ndcg@5: 0.520043\tvalid_0's ndcg@10: 0.568323\tvalid_0's ndcg@20: 0.605618\tvalid_0's ndcg@50: 0.621537\n",
            "[73]\tvalid_0's ndcg@5: 0.519895\tvalid_0's ndcg@10: 0.568231\tvalid_0's ndcg@20: 0.605424\tvalid_0's ndcg@50: 0.621395\n",
            "[74]\tvalid_0's ndcg@5: 0.520051\tvalid_0's ndcg@10: 0.568268\tvalid_0's ndcg@20: 0.605739\tvalid_0's ndcg@50: 0.621541\n",
            "[75]\tvalid_0's ndcg@5: 0.520309\tvalid_0's ndcg@10: 0.568226\tvalid_0's ndcg@20: 0.605663\tvalid_0's ndcg@50: 0.621604\n",
            "[76]\tvalid_0's ndcg@5: 0.520014\tvalid_0's ndcg@10: 0.5681\tvalid_0's ndcg@20: 0.605659\tvalid_0's ndcg@50: 0.621571\n",
            "[77]\tvalid_0's ndcg@5: 0.520417\tvalid_0's ndcg@10: 0.568444\tvalid_0's ndcg@20: 0.606055\tvalid_0's ndcg@50: 0.621834\n",
            "[78]\tvalid_0's ndcg@5: 0.52043\tvalid_0's ndcg@10: 0.568355\tvalid_0's ndcg@20: 0.605977\tvalid_0's ndcg@50: 0.621728\n",
            "[79]\tvalid_0's ndcg@5: 0.520309\tvalid_0's ndcg@10: 0.568639\tvalid_0's ndcg@20: 0.606094\tvalid_0's ndcg@50: 0.621821\n",
            "[80]\tvalid_0's ndcg@5: 0.520294\tvalid_0's ndcg@10: 0.568759\tvalid_0's ndcg@20: 0.605738\tvalid_0's ndcg@50: 0.621606\n",
            "[81]\tvalid_0's ndcg@5: 0.520481\tvalid_0's ndcg@10: 0.569047\tvalid_0's ndcg@20: 0.606082\tvalid_0's ndcg@50: 0.621842\n",
            "[82]\tvalid_0's ndcg@5: 0.520358\tvalid_0's ndcg@10: 0.569135\tvalid_0's ndcg@20: 0.606167\tvalid_0's ndcg@50: 0.621814\n",
            "[83]\tvalid_0's ndcg@5: 0.520869\tvalid_0's ndcg@10: 0.569697\tvalid_0's ndcg@20: 0.606649\tvalid_0's ndcg@50: 0.622218\n",
            "[84]\tvalid_0's ndcg@5: 0.520524\tvalid_0's ndcg@10: 0.569516\tvalid_0's ndcg@20: 0.606492\tvalid_0's ndcg@50: 0.622117\n",
            "[85]\tvalid_0's ndcg@5: 0.520332\tvalid_0's ndcg@10: 0.569395\tvalid_0's ndcg@20: 0.606326\tvalid_0's ndcg@50: 0.622035\n",
            "[86]\tvalid_0's ndcg@5: 0.520603\tvalid_0's ndcg@10: 0.56943\tvalid_0's ndcg@20: 0.606357\tvalid_0's ndcg@50: 0.622038\n",
            "[87]\tvalid_0's ndcg@5: 0.520809\tvalid_0's ndcg@10: 0.569827\tvalid_0's ndcg@20: 0.606766\tvalid_0's ndcg@50: 0.622366\n",
            "[88]\tvalid_0's ndcg@5: 0.520585\tvalid_0's ndcg@10: 0.569539\tvalid_0's ndcg@20: 0.606534\tvalid_0's ndcg@50: 0.622217\n",
            "[89]\tvalid_0's ndcg@5: 0.520592\tvalid_0's ndcg@10: 0.569582\tvalid_0's ndcg@20: 0.606383\tvalid_0's ndcg@50: 0.622035\n",
            "[90]\tvalid_0's ndcg@5: 0.520601\tvalid_0's ndcg@10: 0.569792\tvalid_0's ndcg@20: 0.6065\tvalid_0's ndcg@50: 0.622181\n",
            "[91]\tvalid_0's ndcg@5: 0.520537\tvalid_0's ndcg@10: 0.569565\tvalid_0's ndcg@20: 0.606337\tvalid_0's ndcg@50: 0.621963\n",
            "[92]\tvalid_0's ndcg@5: 0.52088\tvalid_0's ndcg@10: 0.569934\tvalid_0's ndcg@20: 0.606423\tvalid_0's ndcg@50: 0.622131\n",
            "[93]\tvalid_0's ndcg@5: 0.521369\tvalid_0's ndcg@10: 0.570284\tvalid_0's ndcg@20: 0.606957\tvalid_0's ndcg@50: 0.622494\n",
            "[94]\tvalid_0's ndcg@5: 0.520815\tvalid_0's ndcg@10: 0.570044\tvalid_0's ndcg@20: 0.606566\tvalid_0's ndcg@50: 0.622131\n",
            "[95]\tvalid_0's ndcg@5: 0.520464\tvalid_0's ndcg@10: 0.569934\tvalid_0's ndcg@20: 0.606484\tvalid_0's ndcg@50: 0.622078\n",
            "[96]\tvalid_0's ndcg@5: 0.520694\tvalid_0's ndcg@10: 0.569993\tvalid_0's ndcg@20: 0.606593\tvalid_0's ndcg@50: 0.622216\n",
            "[97]\tvalid_0's ndcg@5: 0.521147\tvalid_0's ndcg@10: 0.570195\tvalid_0's ndcg@20: 0.606856\tvalid_0's ndcg@50: 0.622476\n",
            "[98]\tvalid_0's ndcg@5: 0.52109\tvalid_0's ndcg@10: 0.569931\tvalid_0's ndcg@20: 0.60663\tvalid_0's ndcg@50: 0.622367\n",
            "[99]\tvalid_0's ndcg@5: 0.521087\tvalid_0's ndcg@10: 0.570058\tvalid_0's ndcg@20: 0.606895\tvalid_0's ndcg@50: 0.622604\n",
            "[100]\tvalid_0's ndcg@5: 0.521003\tvalid_0's ndcg@10: 0.570141\tvalid_0's ndcg@20: 0.606986\tvalid_0's ndcg@50: 0.622669\n",
            "Did not meet early stopping. Best iteration is:\n",
            "[93]\tvalid_0's ndcg@5: 0.521369\tvalid_0's ndcg@10: 0.570284\tvalid_0's ndcg@20: 0.606957\tvalid_0's ndcg@50: 0.622494\n"
          ]
        },
        {
          "output_type": "execute_result",
          "data": {
            "text/plain": [
              "LGBMRanker(metric='ndcg', objective='lambdarank')"
            ]
          },
          "metadata": {},
          "execution_count": 146
        }
      ]
    },
    {
      "cell_type": "markdown",
      "source": [
        "#Making predictions to rank prop_ids by srch_ids"
      ],
      "metadata": {
        "id": "e2OMQHFxjdtt"
      }
    },
    {
      "cell_type": "code",
      "source": [
        "df_test = df_test.dropna(axis=1)\n",
        "X_test = df_test.drop(['date_time', 'site_id', 'random_bool'], axis=1, inplace=False)\n",
        "\n",
        "results = model.predict(X_test)\n",
        "print(len(results.tolist()))"
      ],
      "metadata": {
        "colab": {
          "base_uri": "https://localhost:8080/"
        },
        "id": "1W2WaOKsKBYd",
        "outputId": "f35a4ddb-cf58-46c7-b22d-57af5be8ca8c"
      },
      "execution_count": null,
      "outputs": [
        {
          "output_type": "stream",
          "name": "stdout",
          "text": [
            "4959183\n"
          ]
        }
      ]
    },
    {
      "cell_type": "markdown",
      "source": [
        "##making new dataframe to eventually export to csv"
      ],
      "metadata": {
        "id": "vWSNGdMXjmdB"
      }
    },
    {
      "cell_type": "code",
      "source": [
        "new_df = df_test[['prop_id', 'srch_id']]\n",
        "new_df['predictions'] = results\n",
        "print(new_df.head(30))"
      ],
      "metadata": {
        "colab": {
          "base_uri": "https://localhost:8080/"
        },
        "id": "ph-bqdU2OPbD",
        "outputId": "4d6ba666-19a8-4cd9-f0f2-30a4ef585290"
      },
      "execution_count": null,
      "outputs": [
        {
          "output_type": "stream",
          "name": "stdout",
          "text": [
            "    prop_id  srch_id  predictions\n",
            "0      3180        1    -0.044488\n",
            "1      5543        1    -0.194896\n",
            "2     14142        1    -0.280203\n",
            "3     22393        1    -0.369562\n",
            "4     24194        1     0.080896\n",
            "5     28181        1    -0.017819\n",
            "6     34263        1     0.082528\n",
            "7     37567        1    -0.070235\n",
            "8     50162        1    -0.017675\n",
            "9     54937        1     0.268866\n",
            "10    56050        1    -0.596198\n",
            "11    61632        1    -0.579347\n",
            "12    61934        1     0.291902\n",
            "13    63894        1    -0.116910\n",
            "14    72090        1     0.100238\n",
            "15    73666        1    -0.543963\n",
            "16    74045        1    -0.015865\n",
            "17    78599        1    -0.129128\n",
            "18    82231        1    -0.105815\n",
            "19    89466        1    -0.368643\n",
            "20    90385        1     0.146368\n",
            "21    94729        1    -0.370000\n",
            "22    95031        1     0.108740\n",
            "23    99484        1     0.277868\n",
            "24   123675        1    -0.180872\n",
            "25   128085        1    -0.069352\n",
            "26   128871        1    -0.372044\n",
            "27   134992        1    -0.498895\n",
            "28   139162        1    -0.472094\n",
            "29     6533        3    -0.032099\n"
          ]
        },
        {
          "output_type": "stream",
          "name": "stderr",
          "text": [
            "/usr/local/lib/python3.7/dist-packages/ipykernel_launcher.py:2: SettingWithCopyWarning: \n",
            "A value is trying to be set on a copy of a slice from a DataFrame.\n",
            "Try using .loc[row_indexer,col_indexer] = value instead\n",
            "\n",
            "See the caveats in the documentation: https://pandas.pydata.org/pandas-docs/stable/user_guide/indexing.html#returning-a-view-versus-a-copy\n",
            "  \n"
          ]
        }
      ]
    },
    {
      "cell_type": "code",
      "source": [
        "sorted_df = new_df.sort_values(['srch_id', 'predictions'], ascending=[True, False])\n",
        "print(sorted_df.head(30))"
      ],
      "metadata": {
        "colab": {
          "base_uri": "https://localhost:8080/"
        },
        "id": "G6gSnuuhW66Q",
        "outputId": "2133e06d-5393-4a8d-cf14-4e34769cfeba"
      },
      "execution_count": null,
      "outputs": [
        {
          "output_type": "stream",
          "name": "stdout",
          "text": [
            "    prop_id  srch_id  predictions\n",
            "12    61934        1     0.291902\n",
            "23    99484        1     0.277868\n",
            "9     54937        1     0.268866\n",
            "20    90385        1     0.146368\n",
            "22    95031        1     0.108740\n",
            "14    72090        1     0.100238\n",
            "6     34263        1     0.082528\n",
            "4     24194        1     0.080896\n",
            "16    74045        1    -0.015865\n",
            "8     50162        1    -0.017675\n",
            "5     28181        1    -0.017819\n",
            "0      3180        1    -0.044488\n",
            "25   128085        1    -0.069352\n",
            "7     37567        1    -0.070235\n",
            "18    82231        1    -0.105815\n",
            "13    63894        1    -0.116910\n",
            "17    78599        1    -0.129128\n",
            "24   123675        1    -0.180872\n",
            "1      5543        1    -0.194896\n",
            "2     14142        1    -0.280203\n",
            "19    89466        1    -0.368643\n",
            "3     22393        1    -0.369562\n",
            "21    94729        1    -0.370000\n",
            "26   128871        1    -0.372044\n",
            "28   139162        1    -0.472094\n",
            "27   134992        1    -0.498895\n",
            "15    73666        1    -0.543963\n",
            "11    61632        1    -0.579347\n",
            "10    56050        1    -0.596198\n",
            "38    46861        3     0.255153\n"
          ]
        }
      ]
    },
    {
      "cell_type": "markdown",
      "source": [
        "Export the predictions csv\n"
      ],
      "metadata": {
        "id": "DfTqIUinfifF"
      }
    },
    {
      "cell_type": "code",
      "source": [
        "export_df = sorted_df.drop(['predictions'], axis=1)\n",
        "export_df = export_df[['srch_id', 'prop_id']] # swap columns for required format\n",
        "\n",
        "compression_opts = dict(method='zip', archive_name='out.csv')  \n",
        "export_df.to_csv('out.zip', index=False, compression=compression_opts) # we can submit .zip instead of the raw .csv, which saves some space."
      ],
      "metadata": {
        "id": "uMbPHjroXZ0H"
      },
      "execution_count": null,
      "outputs": []
    }
  ]
}