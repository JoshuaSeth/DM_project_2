{
  "cells": [
    {
      "cell_type": "markdown",
      "metadata": {
        "id": "4dKtqG7NjJ_r"
      },
      "source": [
        "#Imports"
      ]
    },
    {
      "cell_type": "markdown",
      "metadata": {
        "id": "dleck9NgPKxx"
      },
      "source": [
        "INSTALL MORE RECENT LIGHTGBM VERSION"
      ]
    },
    {
      "cell_type": "code",
      "execution_count": null,
      "metadata": {
        "id": "5FxSLgR5PKYn"
      },
      "outputs": [],
      "source": [
        "!git clone --recursive https://github.com/Microsoft/LightGBM"
      ]
    },
    {
      "cell_type": "code",
      "execution_count": null,
      "metadata": {
        "id": "yvT5OOxxR6Lq"
      },
      "outputs": [],
      "source": [
        "!cd LightGBM && rm -rf build && mkdir build && cd build && cmake -DUSE_GPU=1 ../../LightGBM && make -j4 && cd ../python-package && python3 setup.py install --precompile --gpu;"
      ]
    },
    {
      "cell_type": "code",
      "execution_count": 3,
      "metadata": {
        "id": "MLOmqbK1R63k"
      },
      "outputs": [],
      "source": [
        "import lightgbm as lgbm"
      ]
    },
    {
      "cell_type": "code",
      "execution_count": 4,
      "metadata": {
        "colab": {
          "base_uri": "https://localhost:8080/"
        },
        "id": "u2GVx3a_QitV",
        "outputId": "982663f3-cf26-4967-b1ec-62c0ae945435"
      },
      "outputs": [
        {
          "output_type": "stream",
          "name": "stdout",
          "text": [
            "3.3.2.99\n"
          ]
        }
      ],
      "source": [
        "print(lgbm.__version__) # check version to be sure."
      ]
    },
    {
      "cell_type": "code",
      "execution_count": 5,
      "metadata": {
        "id": "HW-FvB1_XK_1"
      },
      "outputs": [],
      "source": [
        "import pandas as pd\n",
        "import numpy as np\n",
        "from datetime import datetime\n",
        "#import lightgbm # this imports lightgbm version 2.2.3, which does not support some pretty nice features.\n",
        "import matplotlib.pyplot as plt\n",
        "from math import log10\n"
      ]
    },
    {
      "cell_type": "markdown",
      "metadata": {
        "id": "XW1iY7LAjImW"
      },
      "source": [
        "#Loading and checking data"
      ]
    },
    {
      "cell_type": "code",
      "execution_count": null,
      "metadata": {
        "colab": {
          "base_uri": "https://localhost:8080/"
        },
        "id": "lKal9sAkdr0m",
        "outputId": "02049952-9baf-47a7-dd5f-e4ac3c7e4843"
      },
      "outputs": [
        {
          "name": "stdout",
          "output_type": "stream",
          "text": [
            "Once deleted, variables cannot be recovered. Proceed (y/[n])? y\n"
          ]
        }
      ],
      "source": [
        "%reset"
      ]
    },
    {
      "cell_type": "code",
      "execution_count": 6,
      "metadata": {
        "id": "5J6EeE2WXOVE"
      },
      "outputs": [],
      "source": [
        "df = pd.read_csv('drive/MyDrive/training_set_VU_DM.csv')#, nrows=100000)"
      ]
    },
    {
      "cell_type": "code",
      "execution_count": 7,
      "metadata": {
        "id": "3KGeFza4dHAh"
      },
      "outputs": [],
      "source": [
        "df['price_usd'].replace(to_replace=0.0, value=1, inplace=True) # some prices are 0.0, which is weird. replace with 0.1 for the log function\n",
        "df['price_usd'] = df['price_usd'].apply(log10)\n",
        "\n",
        "df['visitor_hist_adr_usd'].replace(to_replace=0.0, value=1, inplace=True) # some prices are 0.0, which is weird.\n",
        "df['visitor_hist_adr_usd'] = df['visitor_hist_adr_usd'].apply(log10)"
      ]
    },
    {
      "cell_type": "code",
      "execution_count": 8,
      "metadata": {
        "id": "98g7_V4ShDKf"
      },
      "outputs": [],
      "source": [
        "### feature which highlights difference between the visitors historical data and the hotel cost\n",
        "df['usd_diff'] = np.abs(df.visitor_hist_adr_usd.values - df.price_usd.values)\n",
        "df['star_diff'] = np.abs(df.visitor_hist_starrating.values - df.prop_starrating.values)"
      ]
    },
    {
      "cell_type": "markdown",
      "metadata": {
        "id": "94R9__mvw3yD"
      },
      "source": [
        "Code below adds a ranking based on the price_usd feature, seems to decrease/keep performance the same"
      ]
    },
    {
      "cell_type": "code",
      "execution_count": 21,
      "metadata": {
        "id": "HbcICpwjnOnf"
      },
      "outputs": [],
      "source": [
        "df_test = pd.read_csv('drive/MyDrive/test_set_VU_DM.csv')#, nrows=10000)"
      ]
    },
    {
      "cell_type": "code",
      "execution_count": 16,
      "metadata": {
        "id": "xne_48Ic9RzS"
      },
      "outputs": [],
      "source": [
        "df_test['price_usd'].replace(to_replace=0.0, value=1, inplace=True) # some prices are 0.0, which is weird. replace with 0.1 for the log function\n",
        "df_test['price_usd'] = df_test['price_usd'].apply(log10)\n",
        "\n",
        "df_test['visitor_hist_adr_usd'].replace(to_replace=0.0, value=1, inplace=True) # some prices are 0.0, which is weird.\n",
        "df_test['visitor_hist_adr_usd'] = df_test['visitor_hist_adr_usd'].apply(log10)"
      ]
    },
    {
      "cell_type": "code",
      "execution_count": 17,
      "metadata": {
        "id": "dWyTPJme9aFU"
      },
      "outputs": [],
      "source": [
        "### feature which highlights difference between the visitors historical data and the hotel cost\n",
        "df_test['usd_diff'] = np.abs(df_test.visitor_hist_adr_usd.values - df_test.price_usd.values)\n",
        "df_test['star_diff'] = np.abs(df_test.visitor_hist_starrating.values - df_test.prop_starrating.values)"
      ]
    },
    {
      "cell_type": "markdown",
      "metadata": {
        "id": "AibQQtYNjSjw"
      },
      "source": [
        "#Making Training and evaluation data for the model"
      ]
    },
    {
      "cell_type": "markdown",
      "metadata": {
        "id": "gmm7VJOzX9Pw"
      },
      "source": [
        "Adding mean property price as a feature to dataset"
      ]
    },
    {
      "cell_type": "code",
      "execution_count": 9,
      "metadata": {
        "colab": {
          "base_uri": "https://localhost:8080/",
          "height": 107
        },
        "id": "ALnF00bMR584",
        "outputId": "9c590a25-25d2-4285-b59b-53daefe16c0d"
      },
      "outputs": [
        {
          "output_type": "execute_result",
          "data": {
            "text/plain": [
              "\"\\n### mean and std of 'prop_starrating' feature ###\\nsame_vals_df = pd.DataFrame()\\n_dict = df.groupby('prop_id')['prop_starrating'].mean().to_dict() # A dict with the operation applied to each group of the id \\nsame_vals_df['same_val_'+'prop_id'+'_'+'prop_starrating'+'_'+'avg'] = df['prop_id'].apply(get_from_dict, _dict=_dict)\\ndf = pd.concat([df, same_vals_df.set_index(df.index)], axis=1)\\n\\nsame_vals_df = pd.DataFrame()\\n_dict = df.groupby('prop_id')['prop_starrating'].std().to_dict() # A dict with the operation applied to each group of the id \\nsame_vals_df['same_val_'+'prop_id'+'_'+'prop_starrating'+'_'+'std'] = df['prop_id'].apply(get_from_dict, _dict=_dict)\\ndf = pd.concat([df, same_vals_df.set_index(df.index)], axis=1)\\n\\n### mean and std of 'prop_review_score' feature ###\\nsame_vals_df = pd.DataFrame()\\n_dict = df.groupby('prop_id')['prop_review_score'].mean().to_dict() # A dict with the operation applied to each group of the id \\nsame_vals_df['same_val_'+'prop_id'+'_'+'prop_review_score'+'_'+'avg'] = df['prop_id'].apply(get_from_dict, _dict=_dict)\\ndf = pd.concat([df, same_vals_df.set_index(df.index)], axis=1)\\n\\nsame_vals_df = pd.DataFrame()\\n_dict = df.groupby('prop_id')['prop_review_score'].std().to_dict() # A dict with the operation applied to each group of the id \\nsame_vals_df['same_val_'+'prop_id'+'_'+'prop_review_score'+'_'+'std'] = df['prop_id'].apply(get_from_dict, _dict=_dict)\\ndf = pd.concat([df, same_vals_df.set_index(df.index)], axis=1)\\n\\n### mean and std of 'prop_log_historical_price' feature ###\\nsame_vals_df = pd.DataFrame()\\n_dict = df.groupby('prop_id')['prop_log_historical_price'].mean().to_dict() # A dict with the operation applied to each group of the id \\nsame_vals_df['same_val_'+'prop_id'+'_'+'prop_log_historical_price'+'_'+'avg'] = df['prop_id'].apply(get_from_dict, _dict=_dict)\\ndf = pd.concat([df, same_vals_df.set_index(df.index)], axis=1)\\n\\nsame_vals_df = pd.DataFrame()\\n_dict = df.groupby('prop_id')['prop_log_historical_price'].std().to_dict() # A dict with the operation applied to each group of the id \\nsame_vals_df['same_val_'+'prop_id'+'_'+'prop_log_historical_price'+'_'+'std'] = df['prop_id'].apply(get_from_dict, _dict=_dict)\\ndf = pd.concat([df, same_vals_df.set_index(df.index)], axis=1)\\n\""
            ],
            "application/vnd.google.colaboratory.intrinsic+json": {
              "type": "string"
            }
          },
          "metadata": {},
          "execution_count": 9
        }
      ],
      "source": [
        "def get_from_dict(x, _dict):\n",
        "    '''There might be a better way to do this'''\n",
        "    return _dict[x]\n",
        "\n",
        "\n",
        "### mean and std of 'price_usd' feature per prop_id ###\n",
        "same_vals_df = pd.DataFrame()\n",
        "_dict = df.groupby('prop_id')['price_usd'].mean().to_dict() # A dict with the operation applied to each group of the id \n",
        "same_vals_df['same_val_'+'prop_id'+'_'+'price_usd'+'_'+'avg'] = df['prop_id'].apply(get_from_dict, _dict=_dict)\n",
        "df = pd.concat([df, same_vals_df.set_index(df.index)], axis=1)\n",
        "\n",
        "same_vals_df = pd.DataFrame()\n",
        "_dict = df.groupby('prop_id')['price_usd'].std().to_dict() # A dict with the operation applied to each group of the id \n",
        "same_vals_df['same_val_'+'prop_id'+'_'+'price_usd'+'_'+'std'] = df['prop_id'].apply(get_from_dict, _dict=_dict)\n",
        "df = pd.concat([df, same_vals_df.set_index(df.index)], axis=1)\n",
        "\n",
        "'''\n",
        "### mean and std of 'prop_starrating' feature ###\n",
        "same_vals_df = pd.DataFrame()\n",
        "_dict = df.groupby('prop_id')['prop_starrating'].mean().to_dict() # A dict with the operation applied to each group of the id \n",
        "same_vals_df['same_val_'+'prop_id'+'_'+'prop_starrating'+'_'+'avg'] = df['prop_id'].apply(get_from_dict, _dict=_dict)\n",
        "df = pd.concat([df, same_vals_df.set_index(df.index)], axis=1)\n",
        "\n",
        "same_vals_df = pd.DataFrame()\n",
        "_dict = df.groupby('prop_id')['prop_starrating'].std().to_dict() # A dict with the operation applied to each group of the id \n",
        "same_vals_df['same_val_'+'prop_id'+'_'+'prop_starrating'+'_'+'std'] = df['prop_id'].apply(get_from_dict, _dict=_dict)\n",
        "df = pd.concat([df, same_vals_df.set_index(df.index)], axis=1)\n",
        "\n",
        "### mean and std of 'prop_review_score' feature ###\n",
        "same_vals_df = pd.DataFrame()\n",
        "_dict = df.groupby('prop_id')['prop_review_score'].mean().to_dict() # A dict with the operation applied to each group of the id \n",
        "same_vals_df['same_val_'+'prop_id'+'_'+'prop_review_score'+'_'+'avg'] = df['prop_id'].apply(get_from_dict, _dict=_dict)\n",
        "df = pd.concat([df, same_vals_df.set_index(df.index)], axis=1)\n",
        "\n",
        "same_vals_df = pd.DataFrame()\n",
        "_dict = df.groupby('prop_id')['prop_review_score'].std().to_dict() # A dict with the operation applied to each group of the id \n",
        "same_vals_df['same_val_'+'prop_id'+'_'+'prop_review_score'+'_'+'std'] = df['prop_id'].apply(get_from_dict, _dict=_dict)\n",
        "df = pd.concat([df, same_vals_df.set_index(df.index)], axis=1)\n",
        "\n",
        "### mean and std of 'prop_log_historical_price' feature ###\n",
        "same_vals_df = pd.DataFrame()\n",
        "_dict = df.groupby('prop_id')['prop_log_historical_price'].mean().to_dict() # A dict with the operation applied to each group of the id \n",
        "same_vals_df['same_val_'+'prop_id'+'_'+'prop_log_historical_price'+'_'+'avg'] = df['prop_id'].apply(get_from_dict, _dict=_dict)\n",
        "df = pd.concat([df, same_vals_df.set_index(df.index)], axis=1)\n",
        "\n",
        "same_vals_df = pd.DataFrame()\n",
        "_dict = df.groupby('prop_id')['prop_log_historical_price'].std().to_dict() # A dict with the operation applied to each group of the id \n",
        "same_vals_df['same_val_'+'prop_id'+'_'+'prop_log_historical_price'+'_'+'std'] = df['prop_id'].apply(get_from_dict, _dict=_dict)\n",
        "df = pd.concat([df, same_vals_df.set_index(df.index)], axis=1)\n",
        "'''"
      ]
    },
    {
      "cell_type": "markdown",
      "metadata": {
        "id": "Jx8Q42-CYO_5"
      },
      "source": [
        "for test set"
      ]
    },
    {
      "cell_type": "code",
      "execution_count": 18,
      "metadata": {
        "colab": {
          "base_uri": "https://localhost:8080/",
          "height": 107
        },
        "id": "IbNz7z1eYORi",
        "outputId": "63bd67cf-4bdd-4746-8163-6bca80b71851"
      },
      "outputs": [
        {
          "output_type": "execute_result",
          "data": {
            "text/plain": [
              "\"\\n### mean and std of 'prop_starrating' feature ###\\nsame_vals_df_test = pd.DataFrame()\\n_dict = df_test.groupby('prop_id')['prop_starrating'].mean().to_dict() # A dict with the operation applied to each group of the id \\nsame_vals_df_test['same_val_'+'prop_id'+'_'+'prop_starrating'+'_'+'avg'] = df_test['prop_id'].apply(get_from_dict, _dict=_dict)\\ndf_test = pd.concat([df_test, same_vals_df_test.set_index(df_test.index)], axis=1)\\n\\nsame_vals_df_test = pd.DataFrame()\\n_dict = df_test.groupby('prop_id')['prop_starrating'].std().to_dict() # A dict with the operation applied to each group of the id \\nsame_vals_df_test['same_val_'+'prop_id'+'_'+'prop_starrating'+'_'+'std'] = df_test['prop_id'].apply(get_from_dict, _dict=_dict)\\ndf_test = pd.concat([df_test, same_vals_df_test.set_index(df_test.index)], axis=1)\\n\\n### mean and std of 'prop_review_score' feature ###\\nsame_vals_df_test = pd.DataFrame()\\n_dict = df_test.groupby('prop_id')['prop_review_score'].mean().to_dict() # A dict with the operation applied to each group of the id \\nsame_vals_df_test['same_val_'+'prop_id'+'_'+'prop_review_score'+'_'+'avg'] = df_test['prop_id'].apply(get_from_dict, _dict=_dict)\\ndf_test = pd.concat([df_test, same_vals_df_test.set_index(df_test.index)], axis=1)\\n\\nsame_vals_df_test = pd.DataFrame()\\n_dict = df_test.groupby('prop_id')['prop_review_score'].std().to_dict() # A dict with the operation applied to each group of the id \\nsame_vals_df_test['same_val_'+'prop_id'+'_'+'prop_review_score'+'_'+'std'] = df_test['prop_id'].apply(get_from_dict, _dict=_dict)\\ndf_test = pd.concat([df_test, same_vals_df_test.set_index(df_test.index)], axis=1)\\n\\n### mean and std of 'prop_log_historical_price' feature ###\\nsame_vals_df_test = pd.DataFrame()\\n_dict = df_test.groupby('prop_id')['prop_log_historical_price'].mean().to_dict() # A dict with the operation applied to each group of the id \\nsame_vals_df_test['same_val_'+'prop_id'+'_'+'prop_log_historical_price'+'_'+'avg'] = df_test['prop_id'].apply(get_from_dict, _dict=_dict)\\ndf_test = pd.concat([df_test, same_vals_df_test.set_index(df_test.index)], axis=1)\\n\\nsame_vals_df_test = pd.DataFrame()\\n_dict = df_test.groupby('prop_id')['prop_log_historical_price'].std().to_dict() # A dict with the operation applied to each group of the id \\nsame_vals_df_test['same_val_'+'prop_id'+'_'+'prop_log_historical_price'+'_'+'std'] = df_test['prop_id'].apply(get_from_dict, _dict=_dict)\\ndf_test = pd.concat([df_test, same_vals_df_test.set_index(df_test.index)], axis=1)\\n\""
            ],
            "application/vnd.google.colaboratory.intrinsic+json": {
              "type": "string"
            }
          },
          "metadata": {},
          "execution_count": 18
        }
      ],
      "source": [
        "def get_from_dict(x, _dict):\n",
        "    '''There might be a better way to do this'''\n",
        "    return _dict[x]\n",
        "\n",
        "### mean and std of 'price_usd' feature ###\n",
        "same_vals_df_test = pd.DataFrame()\n",
        "_dict = df_test.groupby('prop_id')['price_usd'].mean().to_dict() # A dict with the operation applied to each group of the id \n",
        "same_vals_df_test['same_val_'+'prop_id'+'_'+'price_usd'+'_'+'avg'] = df_test['prop_id'].apply(get_from_dict, _dict=_dict)\n",
        "df_test = pd.concat([df_test, same_vals_df_test.set_index(df_test.index)], axis=1)\n",
        "\n",
        "same_vals_df_test = pd.DataFrame()\n",
        "_dict = df_test.groupby('prop_id')['price_usd'].std().to_dict() # A dict with the operation applied to each group of the id \n",
        "same_vals_df_test['same_val_'+'prop_id'+'_'+'price_usd'+'_'+'std'] = df_test['prop_id'].apply(get_from_dict, _dict=_dict)\n",
        "df_test = pd.concat([df_test, same_vals_df_test.set_index(df_test.index)], axis=1)\n",
        "\n",
        "'''\n",
        "### mean and std of 'prop_starrating' feature ###\n",
        "same_vals_df_test = pd.DataFrame()\n",
        "_dict = df_test.groupby('prop_id')['prop_starrating'].mean().to_dict() # A dict with the operation applied to each group of the id \n",
        "same_vals_df_test['same_val_'+'prop_id'+'_'+'prop_starrating'+'_'+'avg'] = df_test['prop_id'].apply(get_from_dict, _dict=_dict)\n",
        "df_test = pd.concat([df_test, same_vals_df_test.set_index(df_test.index)], axis=1)\n",
        "\n",
        "same_vals_df_test = pd.DataFrame()\n",
        "_dict = df_test.groupby('prop_id')['prop_starrating'].std().to_dict() # A dict with the operation applied to each group of the id \n",
        "same_vals_df_test['same_val_'+'prop_id'+'_'+'prop_starrating'+'_'+'std'] = df_test['prop_id'].apply(get_from_dict, _dict=_dict)\n",
        "df_test = pd.concat([df_test, same_vals_df_test.set_index(df_test.index)], axis=1)\n",
        "\n",
        "### mean and std of 'prop_review_score' feature ###\n",
        "same_vals_df_test = pd.DataFrame()\n",
        "_dict = df_test.groupby('prop_id')['prop_review_score'].mean().to_dict() # A dict with the operation applied to each group of the id \n",
        "same_vals_df_test['same_val_'+'prop_id'+'_'+'prop_review_score'+'_'+'avg'] = df_test['prop_id'].apply(get_from_dict, _dict=_dict)\n",
        "df_test = pd.concat([df_test, same_vals_df_test.set_index(df_test.index)], axis=1)\n",
        "\n",
        "same_vals_df_test = pd.DataFrame()\n",
        "_dict = df_test.groupby('prop_id')['prop_review_score'].std().to_dict() # A dict with the operation applied to each group of the id \n",
        "same_vals_df_test['same_val_'+'prop_id'+'_'+'prop_review_score'+'_'+'std'] = df_test['prop_id'].apply(get_from_dict, _dict=_dict)\n",
        "df_test = pd.concat([df_test, same_vals_df_test.set_index(df_test.index)], axis=1)\n",
        "\n",
        "### mean and std of 'prop_log_historical_price' feature ###\n",
        "same_vals_df_test = pd.DataFrame()\n",
        "_dict = df_test.groupby('prop_id')['prop_log_historical_price'].mean().to_dict() # A dict with the operation applied to each group of the id \n",
        "same_vals_df_test['same_val_'+'prop_id'+'_'+'prop_log_historical_price'+'_'+'avg'] = df_test['prop_id'].apply(get_from_dict, _dict=_dict)\n",
        "df_test = pd.concat([df_test, same_vals_df_test.set_index(df_test.index)], axis=1)\n",
        "\n",
        "same_vals_df_test = pd.DataFrame()\n",
        "_dict = df_test.groupby('prop_id')['prop_log_historical_price'].std().to_dict() # A dict with the operation applied to each group of the id \n",
        "same_vals_df_test['same_val_'+'prop_id'+'_'+'prop_log_historical_price'+'_'+'std'] = df_test['prop_id'].apply(get_from_dict, _dict=_dict)\n",
        "df_test = pd.concat([df_test, same_vals_df_test.set_index(df_test.index)], axis=1)\n",
        "'''"
      ]
    },
    {
      "cell_type": "code",
      "execution_count": 10,
      "metadata": {
        "id": "Y21uyHZkRHW6"
      },
      "outputs": [],
      "source": [
        "### so i want to fill the competition NaN values with 0s\n",
        "### all other variables i will set NaNs to -10\n",
        "comp_columnns = [comp_col for comp_col in df.columns if comp_col.startswith('comp')]\n",
        "df[comp_columnns] = df[comp_columnns].fillna(0)\n",
        "df = df.fillna(-10)"
      ]
    },
    {
      "cell_type": "markdown",
      "metadata": {
        "id": "eVtnhcGW97kF"
      },
      "source": [
        "for test set!"
      ]
    },
    {
      "cell_type": "code",
      "execution_count": 19,
      "metadata": {
        "id": "QwXO237896Jz"
      },
      "outputs": [],
      "source": [
        "comp_columnns = [comp_col for comp_col in df_test.columns if comp_col.startswith('comp')]\n",
        "df_test[comp_columnns] = df_test[comp_columnns].fillna(0)\n",
        "df_test = df_test.fillna(-10)\n",
        "df_test = df_test.drop(['date_time', 'site_id', 'random_bool', 'srch_id', 'prop_id', 'visitor_hist_starrating', 'visitor_hist_adr_usd'], axis=1, inplace=False)"
      ]
    },
    {
      "cell_type": "code",
      "execution_count": 11,
      "metadata": {
        "id": "ik22gsOa8vRq"
      },
      "outputs": [],
      "source": [
        "df_train = df[:4500000]\n",
        "df_eval = df[4500000:]\n",
        "\n",
        "qids_train = df_train.groupby('srch_id')['srch_id'].count().to_numpy()\n",
        "y_train = 5 * df_train['booking_bool'].values + df_train['click_bool'].values # booking_bool weighs for 5, clicking bool for 1\n",
        "X_train = df_train.drop(['date_time', 'random_bool', 'click_bool', 'booking_bool', 'position', 'site_id', 'gross_bookings_usd', 'srch_id', 'prop_id', 'visitor_hist_starrating', 'visitor_hist_adr_usd'], axis=1) # \n",
        "\n",
        "qids_eval = df_eval.groupby('srch_id')['srch_id'].count().to_numpy()\n",
        "y_eval = 5 * df_eval['booking_bool'].values + df_eval['click_bool'].values\n",
        "X_eval = df_eval.drop(['date_time', 'random_bool', 'click_bool', 'booking_bool', 'position', 'site_id', 'gross_bookings_usd', 'srch_id', 'prop_id', 'visitor_hist_starrating', 'visitor_hist_adr_usd'], axis=1) # "
      ]
    },
    {
      "cell_type": "markdown",
      "metadata": {
        "id": "rX22mbgKjXGk"
      },
      "source": [
        "#Training a simple lightgbm model with the objective lambdaRank"
      ]
    },
    {
      "cell_type": "code",
      "execution_count": 12,
      "metadata": {
        "colab": {
          "base_uri": "https://localhost:8080/"
        },
        "id": "vO8sbWQk-ASR",
        "outputId": "819a4f6f-1c5e-431c-b4c0-acd70dd536ea"
      },
      "outputs": [
        {
          "output_type": "stream",
          "name": "stderr",
          "text": [
            "/usr/local/lib/python3.7/dist-packages/lightgbm/engine.py:136: UserWarning: Found `num_iterations` in params. Will use it instead of argument\n",
            "  _log_warning(f\"Found `{alias}` in params. Will use it instead of argument\")\n"
          ]
        },
        {
          "output_type": "stream",
          "name": "stdout",
          "text": [
            "[LightGBM] [Warning] min_sum_hessian_in_leaf is set=100, min_child_weight=0.001 will be ignored. Current value: min_sum_hessian_in_leaf=100\n",
            "[LightGBM] [Warning] min_data_in_leaf is set=1, min_child_samples=20 will be ignored. Current value: min_data_in_leaf=1\n",
            "[LightGBM] [Warning] early_stopping_round is set=65, early_stopping_rounds=65 will be ignored. Current value: early_stopping_round=65\n",
            "[LightGBM] [Warning] boosting is set=dart, boosting_type=gbdt will be ignored. Current value: boosting=dart\n",
            "[LightGBM] [Warning] min_sum_hessian_in_leaf is set=100, min_child_weight=0.001 will be ignored. Current value: min_sum_hessian_in_leaf=100\n",
            "[LightGBM] [Warning] min_data_in_leaf is set=1, min_child_samples=20 will be ignored. Current value: min_data_in_leaf=1\n",
            "[LightGBM] [Warning] boosting is set=dart, boosting_type=gbdt will be ignored. Current value: boosting=dart\n",
            "[LightGBM] [Info] This is the GPU trainer!!\n",
            "[LightGBM] [Info] Total Bins 4468\n",
            "[LightGBM] [Info] Number of data points in the train set: 4500000, number of used features: 47\n",
            "[LightGBM] [Info] Using GPU Device: Tesla T4, Vendor: NVIDIA Corporation\n",
            "[LightGBM] [Info] Compiling OpenCL Kernel with 256 bins...\n",
            "[LightGBM] [Info] GPU programs have been built\n",
            "[LightGBM] [Info] Size of histogram bin entry: 8\n",
            "[LightGBM] [Info] 17 dense feature groups (85.83 MB) transferred to GPU in 0.150088 secs. 1 sparse feature groups\n",
            "[LightGBM] [Warning] min_sum_hessian_in_leaf is set=100, min_child_weight=0.001 will be ignored. Current value: min_sum_hessian_in_leaf=100\n",
            "[LightGBM] [Warning] min_data_in_leaf is set=1, min_child_samples=20 will be ignored. Current value: min_data_in_leaf=1\n",
            "[LightGBM] [Warning] early_stopping_round is set=65, early_stopping_rounds=65 will be ignored. Current value: early_stopping_round=65\n",
            "[LightGBM] [Warning] boosting is set=dart, boosting_type=gbdt will be ignored. Current value: boosting=dart\n"
          ]
        },
        {
          "output_type": "stream",
          "name": "stderr",
          "text": [
            "/usr/local/lib/python3.7/dist-packages/lightgbm/callback.py:265: UserWarning: Early stopping is not available in dart mode\n",
            "  _log_warning('Early stopping is not available in dart mode')\n"
          ]
        },
        {
          "output_type": "execute_result",
          "data": {
            "text/plain": [
              "LGBMRanker(boosting='dart', device_type='gpu', early_stopping_rounds=65,\n",
              "           learning_rate=0.03, metric='ndcg', min_data_in_leaf=1,\n",
              "           min_sum_hessian_in_leaf=100, n_estimators=1000, num_iterations=1000,\n",
              "           num_leaves=255, objective='lambdarank', seed=42)"
            ]
          },
          "metadata": {},
          "execution_count": 12
        }
      ],
      "source": [
        "### original model, parameters = score of ¬ 0.399\n",
        "\n",
        "model = lgbm.LGBMRanker(objective='lambdarank', metric='ndcg', boosting='dart',\n",
        "                        num_leaves=255, min_data_in_leaf=1, min_sum_hessian_in_leaf=100, n_estimators=1000,\n",
        "                        num_iterations=1000, learning_rate=0.03, early_stopping_rounds=65, device_type='gpu', seed=42)\n",
        "model.fit(\n",
        "    X=X_train,\n",
        "    y=y_train,\n",
        "    group=qids_train,\n",
        "    eval_set=[(X_eval, y_eval)],\n",
        "    eval_group=[qids_eval],\n",
        "    eval_at=[5, 38],\n",
        ")"
      ]
    },
    {
      "cell_type": "code",
      "execution_count": 13,
      "metadata": {
        "id": "aX6WbIpnoZML",
        "colab": {
          "base_uri": "https://localhost:8080/"
        },
        "outputId": "d4e0ff48-a2bf-4e0c-9d72-541e67341782"
      },
      "outputs": [
        {
          "output_type": "execute_result",
          "data": {
            "text/plain": [
              "<lightgbm.basic.Booster at 0x7f4962f15950>"
            ]
          },
          "metadata": {},
          "execution_count": 13
        }
      ],
      "source": [
        "model.booster_.save_model('drive/MyDrive/mode.txt')\n"
      ]
    },
    {
      "cell_type": "code",
      "execution_count": 14,
      "metadata": {
        "id": "1l7XcD91QYlv"
      },
      "outputs": [],
      "source": [
        "del df, df_eval,df_train,qids_eval, qids_train, same_vals_df, X_eval, X_train, y_eval, y_train # delete from memory after training to prevent runtime crashes and restarts \n",
        "#del df_test, X_test, results]\n"
      ]
    },
    {
      "cell_type": "markdown",
      "metadata": {
        "id": "e2OMQHFxjdtt"
      },
      "source": [
        "#Making predictions to rank prop_ids by srch_ids"
      ]
    },
    {
      "cell_type": "markdown",
      "metadata": {
        "id": "p_zxWiam3CH3"
      },
      "source": [
        "THIS IS FOR THE lightGBM MODEL"
      ]
    },
    {
      "cell_type": "code",
      "execution_count": 20,
      "metadata": {
        "colab": {
          "base_uri": "https://localhost:8080/"
        },
        "id": "UY3mBz0b1018",
        "outputId": "d3c5df33-958b-4955-dafa-58073cfd64bb"
      },
      "outputs": [
        {
          "output_type": "stream",
          "name": "stdout",
          "text": [
            "[LightGBM] [Warning] min_sum_hessian_in_leaf is set=100, min_child_weight=0.001 will be ignored. Current value: min_sum_hessian_in_leaf=100\n",
            "[LightGBM] [Warning] min_data_in_leaf is set=1, min_child_samples=20 will be ignored. Current value: min_data_in_leaf=1\n",
            "[LightGBM] [Warning] boosting is set=dart, boosting_type=gbdt will be ignored. Current value: boosting=dart\n",
            "4959183\n"
          ]
        }
      ],
      "source": [
        "results = model.predict(df_test)\n",
        "print(len(results.tolist()))"
      ]
    },
    {
      "cell_type": "markdown",
      "metadata": {
        "id": "vWSNGdMXjmdB"
      },
      "source": [
        "##making new dataframe to eventually export to csv"
      ]
    },
    {
      "cell_type": "code",
      "execution_count": 22,
      "metadata": {
        "colab": {
          "base_uri": "https://localhost:8080/"
        },
        "id": "ph-bqdU2OPbD",
        "outputId": "f883c97f-00d6-45e4-91a9-e378b47762ca"
      },
      "outputs": [
        {
          "output_type": "stream",
          "name": "stdout",
          "text": [
            "    prop_id  srch_id  predictions\n",
            "0      3180        1     0.031138\n",
            "1      5543        1    -0.015777\n",
            "2     14142        1    -0.275149\n",
            "3     22393        1    -0.332802\n",
            "4     24194        1     0.538116\n",
            "5     28181        1     0.549874\n",
            "6     34263        1     0.507006\n",
            "7     37567        1    -0.215619\n",
            "8     50162        1     0.132004\n",
            "9     54937        1     0.815595\n",
            "10    56050        1    -0.933870\n",
            "11    61632        1    -1.279353\n",
            "12    61934        1     0.893714\n",
            "13    63894        1     0.164642\n",
            "14    72090        1    -0.334717\n",
            "15    73666        1    -0.315379\n",
            "16    74045        1     0.214375\n",
            "17    78599        1     0.029200\n",
            "18    82231        1     0.207770\n",
            "19    89466        1    -0.375336\n",
            "20    90385        1     0.201752\n",
            "21    94729        1    -0.092346\n",
            "22    95031        1     0.426590\n",
            "23    99484        1     1.010831\n",
            "24   123675        1     0.115273\n",
            "25   128085        1    -0.246644\n",
            "26   128871        1    -0.666324\n",
            "27   134992        1    -1.104708\n",
            "28   139162        1    -0.630825\n",
            "29     6533        3    -1.211665\n"
          ]
        },
        {
          "output_type": "stream",
          "name": "stderr",
          "text": [
            "/usr/local/lib/python3.7/dist-packages/ipykernel_launcher.py:2: SettingWithCopyWarning: \n",
            "A value is trying to be set on a copy of a slice from a DataFrame.\n",
            "Try using .loc[row_indexer,col_indexer] = value instead\n",
            "\n",
            "See the caveats in the documentation: https://pandas.pydata.org/pandas-docs/stable/user_guide/indexing.html#returning-a-view-versus-a-copy\n",
            "  \n"
          ]
        }
      ],
      "source": [
        "new_df = df_test[['prop_id', 'srch_id']]\n",
        "new_df['predictions'] = results\n",
        "print(new_df.head(30))"
      ]
    },
    {
      "cell_type": "code",
      "execution_count": 23,
      "metadata": {
        "colab": {
          "base_uri": "https://localhost:8080/"
        },
        "id": "G6gSnuuhW66Q",
        "outputId": "1d7a845e-6c52-4eef-d412-16705b5b6738"
      },
      "outputs": [
        {
          "output_type": "stream",
          "name": "stdout",
          "text": [
            "    prop_id  srch_id  predictions\n",
            "23    99484        1     1.010831\n",
            "12    61934        1     0.893714\n",
            "9     54937        1     0.815595\n",
            "5     28181        1     0.549874\n",
            "4     24194        1     0.538116\n",
            "6     34263        1     0.507006\n",
            "22    95031        1     0.426590\n",
            "16    74045        1     0.214375\n",
            "18    82231        1     0.207770\n",
            "20    90385        1     0.201752\n",
            "13    63894        1     0.164642\n",
            "8     50162        1     0.132004\n",
            "24   123675        1     0.115273\n",
            "0      3180        1     0.031138\n",
            "17    78599        1     0.029200\n",
            "1      5543        1    -0.015777\n",
            "21    94729        1    -0.092346\n",
            "7     37567        1    -0.215619\n",
            "25   128085        1    -0.246644\n",
            "2     14142        1    -0.275149\n",
            "15    73666        1    -0.315379\n",
            "3     22393        1    -0.332802\n",
            "14    72090        1    -0.334717\n",
            "19    89466        1    -0.375336\n",
            "28   139162        1    -0.630825\n",
            "26   128871        1    -0.666324\n",
            "10    56050        1    -0.933870\n",
            "27   134992        1    -1.104708\n",
            "11    61632        1    -1.279353\n",
            "53   131940        3     0.969729\n"
          ]
        }
      ],
      "source": [
        "sorted_df = new_df.sort_values(['srch_id', 'predictions'], ascending=[True, False])\n",
        "print(sorted_df.head(30))"
      ]
    },
    {
      "cell_type": "markdown",
      "metadata": {
        "id": "DfTqIUinfifF"
      },
      "source": [
        "Export the predictions csv\n"
      ]
    },
    {
      "cell_type": "code",
      "execution_count": 24,
      "metadata": {
        "id": "uMbPHjroXZ0H"
      },
      "outputs": [],
      "source": [
        "export_df = sorted_df.drop(['predictions'], axis=1)\n",
        "export_df = export_df[['srch_id', 'prop_id']] # swap columns for required format\n",
        "\n",
        "compression_opts = dict(method='zip', archive_name='out.csv')  \n",
        "export_df.to_csv('out.zip', index=False, compression=compression_opts) # we can submit .zip instead of the raw .csv, which saves some space."
      ]
    },
    {
      "cell_type": "code",
      "execution_count": null,
      "metadata": {
        "id": "T_uSih4f-s14"
      },
      "outputs": [],
      "source": [
        "%matplotlib inline"
      ]
    },
    {
      "cell_type": "code",
      "execution_count": 25,
      "metadata": {
        "colab": {
          "base_uri": "https://localhost:8080/",
          "height": 1000
        },
        "id": "rw4m3W9u-8V-",
        "outputId": "7ac15da3-41a0-4412-b259-85c189f6e351"
      },
      "outputs": [
        {
          "output_type": "display_data",
          "data": {
            "text/plain": [
              "<Figure size 1440x1440 with 1 Axes>"
            ],
            "image/png": "[encoded data removed]"
          },
          "metadata": {
            "needs_background": "light"
          }
        }
      ],
      "source": [
        "ax = lgbm.plot_importance(model)\n",
        "fig = ax.figure\n",
        "fig.set_size_inches(20,20)"
      ]
    }
  ],
  "metadata": {
    "accelerator": "GPU",
    "colab": {
      "collapsed_sections": [],
      "name": "Untitled3.ipynb",
      "provenance": []
    },
    "kernelspec": {
      "display_name": "Python 3",
      "name": "python3"
    },
    "language_info": {
      "name": "python"
    }
  },
  "nbformat": 4,
  "nbformat_minor": 0
}