{
 "cells": [
  {
   "cell_type": "code",
   "execution_count": 7,
   "metadata": {},
   "outputs": [
    {
     "name": "stdout",
     "output_type": "stream",
     "text": [
      "Obtaining file:///Users/sethvanderbijl/Coding%20Projects/DM_project_2\n",
      "Installing collected packages: DM-project-2\n",
      "  Attempting uninstall: DM-project-2\n",
      "    Found existing installation: DM-project-2 1.0\n",
      "    Uninstalling DM-project-2-1.0:\n",
      "      Successfully uninstalled DM-project-2-1.0\n",
      "  Running setup.py develop for DM-project-2\n",
      "Successfully installed DM-project-2\n",
      "Note: you may need to restart the kernel to use updated packages.\n"
     ]
    }
   ],
   "source": [
    "%pip install -e .."
   ]
  },
  {
   "cell_type": "code",
   "execution_count": 1,
   "metadata": {},
   "outputs": [
    {
     "name": "stderr",
     "output_type": "stream",
     "text": [
      "/usr/local/anaconda3/lib/python3.8/site-packages/tqdm/std.py:668: FutureWarning: The Panel class is removed from pandas. Accessing it from the top-level namespace will also be removed in the next version\n",
      "  from pandas import Panel\n"
     ]
    }
   ],
   "source": [
    "from json import load\n",
    "from data.load import load_data\n",
    "import os\n",
    "from datetime import datetime\n",
    "import numpy as np\n",
    "import pandas as pd\n",
    "from sklearn.ensemble import AdaBoostRegressor, BaggingRegressor, RandomForestRegressor, StackingClassifier, StackingRegressor\n",
    "from sklearn.linear_model import BayesianRidge, ElasticNet, HuberRegressor, LinearRegression, SGDRegressor\n",
    "from sklearn.metrics import mean_absolute_error, mean_squared_error\n",
    "from sklearn.model_selection import  train_test_split\n",
    "from sklearn.preprocessing import MinMaxScaler\n",
    "from numpy import std\n",
    "import time\n",
    "import matplotlib.pyplot as plt\n",
    "import copy\n",
    "from helpers.ranking import to_ranking\n"
   ]
  },
  {
   "cell_type": "code",
   "execution_count": 44,
   "metadata": {},
   "outputs": [
    {
     "name": "stdout",
     "output_type": "stream",
     "text": [
      "DF with these specific params is cached, returning cached version.\n"
     ]
    }
   ],
   "source": [
    "\n",
    "# Load data\n",
    "df = load_data(add_day_parts=True, same_value_operations=[('site_id', 'price_usd', 'avg'), ('srch_id', 'price_usd', 'avg')], fts_operations=[('prop_starrating', 'visitor_hist_starrating', 'diff')], add_seasons=True)"
   ]
  },
  {
   "cell_type": "code",
   "execution_count": 46,
   "metadata": {},
   "outputs": [],
   "source": [
    "# Split into target and predictors\n",
    "y = df['booking_bool']\n",
    "X = df.drop(['booking_bool','click_bool', 'position', 'gross_bookings_usd', 'date_time'], axis=1)\n",
    "X = X.fillna(X.mean())\n",
    "del df"
   ]
  },
  {
   "cell_type": "code",
   "execution_count": 5,
   "metadata": {},
   "outputs": [
    {
     "data": {
      "text/plain": [
       "RandomForestRegressor()"
      ]
     },
     "execution_count": 5,
     "metadata": {},
     "output_type": "execute_result"
    }
   ],
   "source": [
    "# Set up stakcing regressor\n",
    "# rf = RandomForestRegressor()\n",
    "# rf= StackingRegressor([('rf',RandomForestRegressor()), ('br',BayesianRidge()), ('ab',AdaBoostRegressor())], verbose=3, n_jobs=7)\n",
    "rf=RandomForestRegressor(verbose=3)\n",
    "rf.fit(X, y)"
   ]
  },
  {
   "cell_type": "code",
   "execution_count": 14,
   "metadata": {},
   "outputs": [],
   "source": [
    "import joblib\n",
    "_ = joblib.dump(rf, 'model.pkl')"
   ]
  },
  {
   "cell_type": "code",
   "execution_count": 49,
   "metadata": {},
   "outputs": [
    {
     "name": "stdout",
     "output_type": "stream",
     "text": [
      "No cache for this specific request, start loading base df from disk.\n"
     ]
    },
    {
     "name": "stderr",
     "output_type": "stream",
     "text": [
      "100%|██████████| 2249/2249 [00:00<00:00, 193263.33it/s]\n",
      "100%|██████████| 2249/2249 [00:00<00:00, 159513.49it/s]\n",
      "100%|██████████| 2249/2249 [00:00<00:00, 141047.72it/s]\n",
      "100%|██████████| 2249/2249 [00:00<00:00, 151126.11it/s]\n",
      "100%|██████████| 2249/2249 [00:00<00:00, 112624.64it/s]\n",
      "100%|██████████| 2249/2249 [00:00<00:00, 109820.01it/s]\n",
      "100%|██████████| 6/6 [00:00<00:00, 40.31it/s]"
     ]
    },
    {
     "name": "stdout",
     "output_type": "stream",
     "text": [
      "generating dayparts\n",
      "1 / 6 Generating datetimes for early_morning\n",
      "2 / 6 Generating datetimes for morning\n",
      "3 / 6 Generating datetimes for noon\n",
      "4 / 6 Generating datetimes for eve\n",
      "5 / 6 Generating datetimes for night\n",
      "6 / 6 Generating datetimes for late_night\n"
     ]
    },
    {
     "name": "stderr",
     "output_type": "stream",
     "text": [
      "\n",
      "100%|██████████| 2249/2249 [00:00<00:00, 154943.98it/s]\n",
      "100%|██████████| 2249/2249 [00:00<00:00, 374949.90it/s]\n",
      "100%|██████████| 2249/2249 [00:00<00:00, 563937.93it/s]\n",
      "100%|██████████| 2/2 [00:00<00:00, 38.71it/s]\n"
     ]
    },
    {
     "name": "stdout",
     "output_type": "stream",
     "text": [
      "generating seasons\n",
      "generating same id features\n",
      "Feature engineering columns with operations\n",
      "saving result of specific arguments to cache\n"
     ]
    },
    {
     "name": "stderr",
     "output_type": "stream",
     "text": [
      "100%|██████████| 500/500 [00:08<00:00, 61.13it/s]\n"
     ]
    }
   ],
   "source": [
    "# Load our own test data\n",
    "test = load_data(mode='our_test', add_day_parts=True, same_value_operations=[('site_id', 'price_usd', 'avg'), ('srch_id', 'price_usd', 'avg')], fts_operations=[('prop_starrating', 'visitor_hist_starrating', 'diff')], add_seasons=True)\n"
   ]
  },
  {
   "cell_type": "code",
   "execution_count": 57,
   "metadata": {},
   "outputs": [],
   "source": [
    "# Drop irrelevant columns from our own test data\n",
    "X_test = test.drop(['date_time', 'gross_bookings_usd', 'booking_bool', 'click_bool', 'position'], axis=1)\n",
    "X_test = X_test.fillna(X.mean()) #Mean of x or mean of x_test?"
   ]
  },
  {
   "cell_type": "code",
   "execution_count": 58,
   "metadata": {},
   "outputs": [
    {
     "data": {
      "text/plain": [
       "[]"
      ]
     },
     "execution_count": 58,
     "metadata": {},
     "output_type": "execute_result"
    }
   ],
   "source": [
    "# Check if there is a difference in columns (there shouldn't be)\n",
    "list(set(X_test.columns) - set(X.columns))"
   ]
  },
  {
   "cell_type": "code",
   "execution_count": 68,
   "metadata": {},
   "outputs": [
    {
     "ename": "TypeError",
     "evalue": "ndcg_eval() got an unexpected keyword argument 'show_difference'",
     "output_type": "error",
     "traceback": [
      "\u001b[0;31m---------------------------------------------------------------------------\u001b[0m",
      "\u001b[0;31mTypeError\u001b[0m                                 Traceback (most recent call last)",
      "\u001b[0;32m<ipython-input-68-9e0e7589c9f0>\u001b[0m in \u001b[0;36m<module>\u001b[0;34m\u001b[0m\n\u001b[1;32m      7\u001b[0m \u001b[0mranking\u001b[0m \u001b[0;34m=\u001b[0m \u001b[0mto_ranking\u001b[0m\u001b[0;34m(\u001b[0m\u001b[0mX_test\u001b[0m\u001b[0;34m,\u001b[0m \u001b[0mpreds\u001b[0m\u001b[0;34m)\u001b[0m\u001b[0;34m\u001b[0m\u001b[0;34m\u001b[0m\u001b[0m\n\u001b[1;32m      8\u001b[0m \u001b[0;34m\u001b[0m\u001b[0m\n\u001b[0;32m----> 9\u001b[0;31m \u001b[0mscore\u001b[0m \u001b[0;34m=\u001b[0m \u001b[0mndcg_eval\u001b[0m\u001b[0;34m(\u001b[0m\u001b[0mranking\u001b[0m\u001b[0;34m,\u001b[0m \u001b[0mtest\u001b[0m\u001b[0;34m,\u001b[0m \u001b[0mshow_difference\u001b[0m\u001b[0;34m=\u001b[0m\u001b[0;32mTrue\u001b[0m\u001b[0;34m)\u001b[0m\u001b[0;34m\u001b[0m\u001b[0;34m\u001b[0m\u001b[0m\n\u001b[0m\u001b[1;32m     10\u001b[0m \u001b[0;34m\u001b[0m\u001b[0m\n\u001b[1;32m     11\u001b[0m \u001b[0mscore\u001b[0m\u001b[0;34m\u001b[0m\u001b[0;34m\u001b[0m\u001b[0m\n",
      "\u001b[0;31mTypeError\u001b[0m: ndcg_eval() got an unexpected keyword argument 'show_difference'"
     ]
    }
   ],
   "source": [
    "# Predicting on our own test data\n",
    "from helpers.ndcg import ndcg_eval\n",
    "\n",
    "preds = rf.predict(X_test)\n",
    "\n",
    "ranking = to_ranking(X_test, preds)\n",
    "\n",
    "score = ndcg_eval(ranking, test, show_difference=True)\n",
    "\n",
    "score\n"
   ]
  },
  {
   "cell_type": "code",
   "execution_count": 64,
   "metadata": {},
   "outputs": [
    {
     "name": "stdout",
     "output_type": "stream",
     "text": [
      "No cache for this specific request, start loading base df from disk.\n"
     ]
    },
    {
     "name": "stderr",
     "output_type": "stream",
     "text": [
      "  0%|          | 0/6 [00:00<?, ?it/s]"
     ]
    },
    {
     "name": "stdout",
     "output_type": "stream",
     "text": [
      "generating dayparts\n",
      "1 / 6 Generating datetimes for early_morning\n"
     ]
    },
    {
     "name": "stderr",
     "output_type": "stream",
     "text": [
      "100%|██████████| 4959183/4959183 [00:23<00:00, 210222.68it/s]\n",
      " 17%|█▋        | 1/6 [00:24<02:00, 24.02s/it]"
     ]
    },
    {
     "name": "stdout",
     "output_type": "stream",
     "text": [
      "2 / 6 Generating datetimes for morning\n"
     ]
    },
    {
     "name": "stderr",
     "output_type": "stream",
     "text": [
      "100%|██████████| 4959183/4959183 [00:32<00:00, 152285.77it/s]\n",
      " 33%|███▎      | 2/6 [00:57<01:46, 26.74s/it]"
     ]
    },
    {
     "name": "stdout",
     "output_type": "stream",
     "text": [
      "3 / 6 Generating datetimes for noon\n"
     ]
    },
    {
     "name": "stderr",
     "output_type": "stream",
     "text": [
      "100%|██████████| 4959183/4959183 [00:42<00:00, 116329.06it/s]\n",
      " 50%|█████     | 3/6 [01:40<01:35, 31.71s/it]"
     ]
    },
    {
     "name": "stdout",
     "output_type": "stream",
     "text": [
      "4 / 6 Generating datetimes for eve\n"
     ]
    },
    {
     "name": "stderr",
     "output_type": "stream",
     "text": [
      "100%|██████████| 4959183/4959183 [00:37<00:00, 133113.48it/s]\n",
      " 67%|██████▋   | 4/6 [02:18<01:07, 33.54s/it]"
     ]
    },
    {
     "name": "stdout",
     "output_type": "stream",
     "text": [
      "5 / 6 Generating datetimes for night\n"
     ]
    },
    {
     "name": "stderr",
     "output_type": "stream",
     "text": [
      "100%|██████████| 4959183/4959183 [00:29<00:00, 165826.00it/s]\n",
      " 83%|████████▎ | 5/6 [02:48<00:32, 32.58s/it]"
     ]
    },
    {
     "name": "stdout",
     "output_type": "stream",
     "text": [
      "6 / 6 Generating datetimes for late_night\n"
     ]
    },
    {
     "name": "stderr",
     "output_type": "stream",
     "text": [
      "100%|██████████| 4959183/4959183 [00:45<00:00, 108622.33it/s]\n",
      "100%|██████████| 6/6 [03:35<00:00, 35.85s/it]\n",
      "  0%|          | 0/4959183 [00:00<?, ?it/s]"
     ]
    },
    {
     "name": "stdout",
     "output_type": "stream",
     "text": [
      "generating seasons\n"
     ]
    },
    {
     "name": "stderr",
     "output_type": "stream",
     "text": [
      "100%|██████████| 4959183/4959183 [00:37<00:00, 131371.46it/s] \n",
      "  0%|          | 0/2 [00:00<?, ?it/s]"
     ]
    },
    {
     "name": "stdout",
     "output_type": "stream",
     "text": [
      "generating same id features\n"
     ]
    },
    {
     "name": "stderr",
     "output_type": "stream",
     "text": [
      "100%|██████████| 4959183/4959183 [00:13<00:00, 360716.65it/s]\n",
      "100%|██████████| 4959183/4959183 [00:19<00:00, 260770.12it/s]\n",
      "100%|██████████| 2/2 [00:40<00:00, 20.48s/it]\n"
     ]
    },
    {
     "name": "stdout",
     "output_type": "stream",
     "text": [
      "Feature engineering columns with operations\n"
     ]
    },
    {
     "name": "stderr",
     "output_type": "stream",
     "text": [
      "  0%|          | 0/500 [00:00<?, ?it/s]"
     ]
    },
    {
     "name": "stdout",
     "output_type": "stream",
     "text": [
      "saving result of specific arguments to cache\n"
     ]
    },
    {
     "name": "stderr",
     "output_type": "stream",
     "text": [
      "100%|██████████| 500/500 [01:11<00:00,  7.04it/s]\n"
     ]
    }
   ],
   "source": [
    "# So now let's predict for the kaggle_competition\n",
    "kaggle_test = load_data(mode='kaggle_test', add_day_parts=True, same_value_operations=[('site_id', 'price_usd', 'avg'), ('srch_id', 'price_usd', 'avg')], fts_operations=[('prop_starrating', 'visitor_hist_starrating', 'diff')], add_seasons=True)"
   ]
  },
  {
   "cell_type": "code",
   "execution_count": 77,
   "metadata": {},
   "outputs": [
    {
     "data": {
      "text/plain": [
       "[]"
      ]
     },
     "execution_count": 77,
     "metadata": {},
     "output_type": "execute_result"
    }
   ],
   "source": [
    "# Drop irrelevant columns from our own test data\n",
    "X_test_kaggle = kaggle_test.drop('date_time', axis=1)\n",
    "X_test_kaggle = X_test_kaggle.fillna(X.mean()) #Mean of x or mean of x_test?\n",
    "\n",
    "# Again double check whether columns are equal\n",
    "list(set(X_test_kaggle.columns) - set(X.columns))"
   ]
  },
  {
   "cell_type": "code",
   "execution_count": 78,
   "metadata": {},
   "outputs": [
    {
     "data": {
      "text/html": [
       "<div>\n",
       "<style scoped>\n",
       "    .dataframe tbody tr th:only-of-type {\n",
       "        vertical-align: middle;\n",
       "    }\n",
       "\n",
       "    .dataframe tbody tr th {\n",
       "        vertical-align: top;\n",
       "    }\n",
       "\n",
       "    .dataframe thead th {\n",
       "        text-align: right;\n",
       "    }\n",
       "</style>\n",
       "<table border=\"1\" class=\"dataframe\">\n",
       "  <thead>\n",
       "    <tr style=\"text-align: right;\">\n",
       "      <th></th>\n",
       "      <th>srch_id</th>\n",
       "      <th>prop_id</th>\n",
       "    </tr>\n",
       "  </thead>\n",
       "  <tbody>\n",
       "    <tr>\n",
       "      <th>25</th>\n",
       "      <td>1</td>\n",
       "      <td>128085</td>\n",
       "    </tr>\n",
       "    <tr>\n",
       "      <th>6</th>\n",
       "      <td>1</td>\n",
       "      <td>34263</td>\n",
       "    </tr>\n",
       "    <tr>\n",
       "      <th>8</th>\n",
       "      <td>1</td>\n",
       "      <td>50162</td>\n",
       "    </tr>\n",
       "    <tr>\n",
       "      <th>23</th>\n",
       "      <td>1</td>\n",
       "      <td>99484</td>\n",
       "    </tr>\n",
       "    <tr>\n",
       "      <th>5</th>\n",
       "      <td>1</td>\n",
       "      <td>28181</td>\n",
       "    </tr>\n",
       "    <tr>\n",
       "      <th>...</th>\n",
       "      <td>...</td>\n",
       "      <td>...</td>\n",
       "    </tr>\n",
       "    <tr>\n",
       "      <th>4959177</th>\n",
       "      <td>332787</td>\n",
       "      <td>29018</td>\n",
       "    </tr>\n",
       "    <tr>\n",
       "      <th>4959178</th>\n",
       "      <td>332787</td>\n",
       "      <td>32019</td>\n",
       "    </tr>\n",
       "    <tr>\n",
       "      <th>4959181</th>\n",
       "      <td>332787</td>\n",
       "      <td>94437</td>\n",
       "    </tr>\n",
       "    <tr>\n",
       "      <th>4959182</th>\n",
       "      <td>332787</td>\n",
       "      <td>99509</td>\n",
       "    </tr>\n",
       "    <tr>\n",
       "      <th>4959180</th>\n",
       "      <td>332787</td>\n",
       "      <td>35240</td>\n",
       "    </tr>\n",
       "  </tbody>\n",
       "</table>\n",
       "<p>4959183 rows × 2 columns</p>\n",
       "</div>"
      ],
      "text/plain": [
       "         srch_id  prop_id\n",
       "25             1   128085\n",
       "6              1    34263\n",
       "8              1    50162\n",
       "23             1    99484\n",
       "5              1    28181\n",
       "...          ...      ...\n",
       "4959177   332787    29018\n",
       "4959178   332787    32019\n",
       "4959181   332787    94437\n",
       "4959182   332787    99509\n",
       "4959180   332787    35240\n",
       "\n",
       "[4959183 rows x 2 columns]"
      ]
     },
     "execution_count": 78,
     "metadata": {},
     "output_type": "execute_result"
    }
   ],
   "source": [
    "# The moment of truth :O\n",
    "preds = rf.predict(X_test_kaggle)\n",
    "\n",
    "ranking = to_ranking(X_test_kaggle, preds)\n",
    "\n",
    "ranking"
   ]
  },
  {
   "cell_type": "code",
   "execution_count": 80,
   "metadata": {},
   "outputs": [],
   "source": [
    "ranking.to_csv('kaggle_ranking_seth.txt', index=False)"
   ]
  },
  {
   "cell_type": "code",
   "execution_count": 79,
   "metadata": {},
   "outputs": [
    {
     "name": "stdout",
     "output_type": "stream",
     "text": [
      "                                 f         i\n",
      "60  same_val_srch_id_price_usd_avg  0.075240\n",
      "13                       price_usd  0.073632\n",
      "0                          srch_id  0.071089\n",
      "23       orig_destination_distance  0.070275\n",
      "11            prop_location_score2  0.063259\n",
      "..                             ...       ...\n",
      "35                       comp4_inv  0.002395\n",
      "41                       comp6_inv  0.002080\n",
      "27         comp1_rate_percent_diff  0.001900\n",
      "25                      comp1_rate  0.001200\n",
      "26                       comp1_inv  0.000753\n",
      "\n",
      "[62 rows x 2 columns]\n"
     ]
    }
   ],
   "source": [
    "# Also look at feature importances, both fr debugging and informing group mates\n",
    "l = zip(X.columns, rf.feature_importances_)\n",
    "df = pd.DataFrame(l, columns=['f', 'i']).sort_values('i', ascending=False)\n",
    "print(df)\n",
    "df.to_csv('temp feature importances')"
   ]
  }
 ],
 "metadata": {
  "interpreter": {
   "hash": "d532e8952df537b50de3bd4c05b7ea6521853c70a8506ea5ed19af6d973f7b4a"
  },
  "kernelspec": {
   "display_name": "Python 3.9.0 ('.venv': venv)",
   "language": "python",
   "name": "python3"
  },
  "language_info": {
   "codemirror_mode": {
    "name": "ipython",
    "version": 3
   },
   "file_extension": ".py",
   "mimetype": "text/x-python",
   "name": "python",
   "nbconvert_exporter": "python",
   "pygments_lexer": "ipython3",
   "version": "3.8.3"
  },
  "orig_nbformat": 4
 },
 "nbformat": 4,
 "nbformat_minor": 2
}
