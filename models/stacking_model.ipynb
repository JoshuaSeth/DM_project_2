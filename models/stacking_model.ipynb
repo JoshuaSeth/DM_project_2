{
 "cells": [
  {
   "cell_type": "code",
   "execution_count": 7,
   "metadata": {},
   "outputs": [
    {
     "name": "stdout",
     "output_type": "stream",
     "text": [
      "Obtaining file:///Users/sethvanderbijl/Coding%20Projects/DM_project_2\n",
      "Installing collected packages: DM-project-2\n",
      "  Attempting uninstall: DM-project-2\n",
      "    Found existing installation: DM-project-2 1.0\n",
      "    Uninstalling DM-project-2-1.0:\n",
      "      Successfully uninstalled DM-project-2-1.0\n",
      "  Running setup.py develop for DM-project-2\n",
      "Successfully installed DM-project-2\n",
      "Note: you may need to restart the kernel to use updated packages.\n"
     ]
    }
   ],
   "source": [
    "%pip install -e .."
   ]
  },
  {
   "cell_type": "code",
   "execution_count": 1,
   "metadata": {},
   "outputs": [
    {
     "name": "stderr",
     "output_type": "stream",
     "text": [
      "/usr/local/anaconda3/lib/python3.8/site-packages/tqdm/std.py:668: FutureWarning: The Panel class is removed from pandas. Accessing it from the top-level namespace will also be removed in the next version\n",
      "  from pandas import Panel\n"
     ]
    }
   ],
   "source": [
    "from json import load\n",
    "from data.load import load_data\n",
    "import os\n",
    "from datetime import datetime\n",
    "import numpy as np\n",
    "import pandas as pd\n",
    "from sklearn.ensemble import AdaBoostRegressor, BaggingRegressor, RandomForestRegressor, StackingClassifier, StackingRegressor\n",
    "from sklearn.linear_model import BayesianRidge, ElasticNet, HuberRegressor, LinearRegression, SGDRegressor\n",
    "from sklearn.metrics import mean_absolute_error, mean_squared_error\n",
    "from sklearn.model_selection import  train_test_split\n",
    "from sklearn.preprocessing import MinMaxScaler\n",
    "from numpy import std\n",
    "import time\n",
    "import matplotlib.pyplot as plt\n",
    "import copy\n",
    "from helpers.ranking import to_ranking\n"
   ]
  },
  {
   "cell_type": "code",
   "execution_count": 44,
   "metadata": {},
   "outputs": [
    {
     "name": "stdout",
     "output_type": "stream",
     "text": [
      "DF with these specific params is cached, returning cached version.\n"
     ]
    }
   ],
   "source": [
    "\n",
    "# Load data\n",
    "df = load_data(add_day_parts=True, same_value_operations=[('site_id', 'price_usd', 'avg'), ('srch_id', 'price_usd', 'avg')], fts_operations=[('prop_starrating', 'visitor_hist_starrating', 'diff')], add_seasons=True)"
   ]
  },
  {
   "cell_type": "code",
   "execution_count": 46,
   "metadata": {},
   "outputs": [],
   "source": [
    "# Split into target and predictors\n",
    "y = df['booking_bool']\n",
    "X = df.drop(['booking_bool','click_bool', 'position', 'gross_bookings_usd', 'date_time'], axis=1)\n",
    "X = X.fillna(X.mean())\n",
    "del df"
   ]
  },
  {
   "cell_type": "code",
   "execution_count": 5,
   "metadata": {},
   "outputs": [
    {
     "data": {
      "text/plain": [
       "RandomForestRegressor()"
      ]
     },
     "execution_count": 5,
     "metadata": {},
     "output_type": "execute_result"
    }
   ],
   "source": [
    "# Set up stakcing regressor\n",
    "# rf = RandomForestRegressor()\n",
    "# rf= StackingRegressor([('rf',RandomForestRegressor()), ('br',BayesianRidge()), ('ab',AdaBoostRegressor())], verbose=3, n_jobs=7)\n",
    "rf=RandomForestRegressor(verbose=3)\n",
    "rf.fit(X, y)"
   ]
  },
  {
   "cell_type": "code",
   "execution_count": 14,
   "metadata": {},
   "outputs": [],
   "source": [
    "import joblib\n",
    "_ = joblib.dump(rf, 'model.pkl')"
   ]
  },
  {
   "cell_type": "code",
   "execution_count": 49,
   "metadata": {},
   "outputs": [
    {
     "name": "stdout",
     "output_type": "stream",
     "text": [
      "No cache for this specific request, start loading base df from disk.\n"
     ]
    },
    {
     "name": "stderr",
     "output_type": "stream",
     "text": [
      "100%|██████████| 2249/2249 [00:00<00:00, 193263.33it/s]\n",
      "100%|██████████| 2249/2249 [00:00<00:00, 159513.49it/s]\n",
      "100%|██████████| 2249/2249 [00:00<00:00, 141047.72it/s]\n",
      "100%|██████████| 2249/2249 [00:00<00:00, 151126.11it/s]\n",
      "100%|██████████| 2249/2249 [00:00<00:00, 112624.64it/s]\n",
      "100%|██████████| 2249/2249 [00:00<00:00, 109820.01it/s]\n",
      "100%|██████████| 6/6 [00:00<00:00, 40.31it/s]"
     ]
    },
    {
     "name": "stdout",
     "output_type": "stream",
     "text": [
      "generating dayparts\n",
      "1 / 6 Generating datetimes for early_morning\n",
      "2 / 6 Generating datetimes for morning\n",
      "3 / 6 Generating datetimes for noon\n",
      "4 / 6 Generating datetimes for eve\n",
      "5 / 6 Generating datetimes for night\n",
      "6 / 6 Generating datetimes for late_night\n"
     ]
    },
    {
     "name": "stderr",
     "output_type": "stream",
     "text": [
      "\n",
      "100%|██████████| 2249/2249 [00:00<00:00, 154943.98it/s]\n",
      "100%|██████████| 2249/2249 [00:00<00:00, 374949.90it/s]\n",
      "100%|██████████| 2249/2249 [00:00<00:00, 563937.93it/s]\n",
      "100%|██████████| 2/2 [00:00<00:00, 38.71it/s]\n"
     ]
    },
    {
     "name": "stdout",
     "output_type": "stream",
     "text": [
      "generating seasons\n",
      "generating same id features\n",
      "Feature engineering columns with operations\n",
      "saving result of specific arguments to cache\n"
     ]
    },
    {
     "name": "stderr",
     "output_type": "stream",
     "text": [
      "100%|██████████| 500/500 [00:08<00:00, 61.13it/s]\n"
     ]
    }
   ],
   "source": [
    "test = load_data(mode='our_test', add_day_parts=True, same_value_operations=[('site_id', 'price_usd', 'avg'), ('srch_id', 'price_usd', 'avg')], fts_operations=[('prop_starrating', 'visitor_hist_starrating', 'diff')], add_seasons=True)\n"
   ]
  },
  {
   "cell_type": "code",
   "execution_count": 57,
   "metadata": {},
   "outputs": [],
   "source": [
    "# X_train, X_test, y_train, y_test = train_test_split(X, y)\n",
    "X_test = test.drop(['date_time', 'gross_bookings_usd', 'booking_bool', 'click_bool', 'position'], axis=1)\n",
    "X_test = X_test.fillna(X.mean()) #Mean of x or mean of x_test?"
   ]
  },
  {
   "cell_type": "code",
   "execution_count": 58,
   "metadata": {},
   "outputs": [
    {
     "data": {
      "text/plain": [
       "[]"
      ]
     },
     "execution_count": 58,
     "metadata": {},
     "output_type": "execute_result"
    }
   ],
   "source": [
    "# Check if there is a difference in columns (there shouldn't be)\n",
    "list(set(X_test.columns) - set(X.columns))"
   ]
  },
  {
   "cell_type": "code",
   "execution_count": 63,
   "metadata": {},
   "outputs": [
    {
     "name": "stdout",
     "output_type": "stream",
     "text": [
      "[0.16 0.24 0.07 ... 0.02 0.   0.05]\n",
      "      srch_id  prop_id\n",
      "14       2484    59097\n",
      "1        2484     5355\n",
      "7        2484    30762\n",
      "4        2484    19438\n",
      "31       2484   140724\n",
      "...       ...      ...\n",
      "2246   330758   123498\n",
      "2226   330758    19251\n",
      "2221   330758    13184\n",
      "2239   330758    93651\n",
      "2247   330758   134022\n",
      "\n",
      "[2249 rows x 2 columns]\n"
     ]
    },
    {
     "data": {
      "text/plain": [
       "0.4436409815645396"
      ]
     },
     "execution_count": 63,
     "metadata": {},
     "output_type": "execute_result"
    }
   ],
   "source": [
    "from helpers.ndcg import ndcg_eval\n",
    "\n",
    "preds = rf.predict(X_test)\n",
    "\n",
    "ranking = to_ranking(X_test, preds)\n",
    "\n",
    "score = ndcg_eval(ranking, test)\n",
    "\n",
    "score\n"
   ]
  }
 ],
 "metadata": {
  "interpreter": {
   "hash": "d532e8952df537b50de3bd4c05b7ea6521853c70a8506ea5ed19af6d973f7b4a"
  },
  "kernelspec": {
   "display_name": "Python 3.9.0 ('.venv': venv)",
   "language": "python",
   "name": "python3"
  },
  "language_info": {
   "codemirror_mode": {
    "name": "ipython",
    "version": 3
   },
   "file_extension": ".py",
   "mimetype": "text/x-python",
   "name": "python",
   "nbconvert_exporter": "python",
   "pygments_lexer": "ipython3",
   "version": "3.8.3"
  },
  "orig_nbformat": 4
 },
 "nbformat": 4,
 "nbformat_minor": 2
}
