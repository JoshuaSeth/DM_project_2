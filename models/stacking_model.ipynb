{
 "cells": [
  {
   "cell_type": "code",
   "execution_count": 7,
   "metadata": {},
   "outputs": [
    {
     "name": "stdout",
     "output_type": "stream",
     "text": [
      "Obtaining file:///Users/sethvanderbijl/Coding%20Projects/DM_project_2\n",
      "Installing collected packages: DM-project-2\n",
      "  Attempting uninstall: DM-project-2\n",
      "    Found existing installation: DM-project-2 1.0\n",
      "    Uninstalling DM-project-2-1.0:\n",
      "      Successfully uninstalled DM-project-2-1.0\n",
      "  Running setup.py develop for DM-project-2\n",
      "Successfully installed DM-project-2\n",
      "Note: you may need to restart the kernel to use updated packages.\n"
     ]
    }
   ],
   "source": [
    "%pip install -e .."
   ]
  },
  {
   "cell_type": "code",
   "execution_count": 1,
   "metadata": {},
   "outputs": [
    {
     "name": "stderr",
     "output_type": "stream",
     "text": [
      "/usr/local/anaconda3/lib/python3.8/site-packages/tqdm/std.py:668: FutureWarning: The Panel class is removed from pandas. Accessing it from the top-level namespace will also be removed in the next version\n",
      "  from pandas import Panel\n"
     ]
    }
   ],
   "source": [
    "from json import load\n",
    "from data.load import load_data\n",
    "import os\n",
    "from datetime import datetime\n",
    "import numpy as np\n",
    "import pandas as pd\n",
    "from sklearn.ensemble import AdaBoostRegressor, BaggingRegressor, RandomForestRegressor, StackingClassifier, StackingRegressor\n",
    "from sklearn.linear_model import BayesianRidge, ElasticNet, HuberRegressor, LinearRegression, SGDRegressor\n",
    "from sklearn.metrics import mean_absolute_error, mean_squared_error\n",
    "from sklearn.model_selection import  train_test_split\n",
    "from sklearn.preprocessing import MinMaxScaler\n",
    "from numpy import std\n",
    "import time\n",
    "import matplotlib.pyplot as plt\n",
    "import copy\n",
    "from helpers.ranking import to_ranking\n"
   ]
  },
  {
   "cell_type": "code",
   "execution_count": 2,
   "metadata": {},
   "outputs": [
    {
     "name": "stdout",
     "output_type": "stream",
     "text": [
      "No cache for this specific request, start loading base df from disk.\n"
     ]
    },
    {
     "name": "stderr",
     "output_type": "stream",
     "text": [
      "  0%|          | 0/6 [00:00<?, ?it/s]"
     ]
    },
    {
     "name": "stdout",
     "output_type": "stream",
     "text": [
      "generating dayparts\n",
      "1 / 6 Generating datetimes for early_morning\n"
     ]
    },
    {
     "name": "stderr",
     "output_type": "stream",
     "text": [
      "100%|██████████| 4956098/4956098 [00:20<00:00, 238053.86it/s]\n",
      " 17%|█▋        | 1/6 [00:21<01:45, 21.10s/it]"
     ]
    },
    {
     "name": "stdout",
     "output_type": "stream",
     "text": [
      "2 / 6 Generating datetimes for morning\n"
     ]
    },
    {
     "name": "stderr",
     "output_type": "stream",
     "text": [
      "100%|██████████| 4956098/4956098 [00:20<00:00, 241632.35it/s]\n",
      " 33%|███▎      | 2/6 [00:41<01:24, 21.00s/it]"
     ]
    },
    {
     "name": "stdout",
     "output_type": "stream",
     "text": [
      "3 / 6 Generating datetimes for noon\n"
     ]
    },
    {
     "name": "stderr",
     "output_type": "stream",
     "text": [
      "100%|██████████| 4956098/4956098 [00:19<00:00, 257273.52it/s]\n",
      " 50%|█████     | 3/6 [01:01<01:01, 20.56s/it]"
     ]
    },
    {
     "name": "stdout",
     "output_type": "stream",
     "text": [
      "4 / 6 Generating datetimes for eve\n"
     ]
    },
    {
     "name": "stderr",
     "output_type": "stream",
     "text": [
      "100%|██████████| 4956098/4956098 [00:21<00:00, 225980.66it/s]\n",
      " 67%|██████▋   | 4/6 [01:23<00:42, 21.05s/it]"
     ]
    },
    {
     "name": "stdout",
     "output_type": "stream",
     "text": [
      "5 / 6 Generating datetimes for night\n"
     ]
    },
    {
     "name": "stderr",
     "output_type": "stream",
     "text": [
      "100%|██████████| 4956098/4956098 [00:20<00:00, 242287.67it/s]\n",
      " 83%|████████▎ | 5/6 [01:44<00:20, 20.95s/it]"
     ]
    },
    {
     "name": "stdout",
     "output_type": "stream",
     "text": [
      "6 / 6 Generating datetimes for late_night\n"
     ]
    },
    {
     "name": "stderr",
     "output_type": "stream",
     "text": [
      "100%|██████████| 4956098/4956098 [00:19<00:00, 258625.14it/s]\n",
      "100%|██████████| 6/6 [02:03<00:00, 20.63s/it]\n",
      "  0%|          | 0/4956098 [00:00<?, ?it/s]"
     ]
    },
    {
     "name": "stdout",
     "output_type": "stream",
     "text": [
      "generating seasons\n"
     ]
    },
    {
     "name": "stderr",
     "output_type": "stream",
     "text": [
      "100%|██████████| 4956098/4956098 [00:20<00:00, 245813.16it/s]\n",
      "  0%|          | 0/2 [00:00<?, ?it/s]"
     ]
    },
    {
     "name": "stdout",
     "output_type": "stream",
     "text": [
      "generating same id features\n"
     ]
    },
    {
     "name": "stderr",
     "output_type": "stream",
     "text": [
      "100%|██████████| 4956098/4956098 [00:06<00:00, 797523.05it/s]\n",
      "100%|██████████| 4956098/4956098 [00:06<00:00, 781426.81it/s]\n",
      "100%|██████████| 2/2 [00:16<00:00,  8.27s/it]\n"
     ]
    },
    {
     "name": "stdout",
     "output_type": "stream",
     "text": [
      "Feature engineering columns with operations\n"
     ]
    },
    {
     "name": "stderr",
     "output_type": "stream",
     "text": [
      "  0%|          | 0/500 [00:00<?, ?it/s]"
     ]
    },
    {
     "name": "stdout",
     "output_type": "stream",
     "text": [
      "saving result of specific arguments to cache\n"
     ]
    },
    {
     "name": "stderr",
     "output_type": "stream",
     "text": [
      "100%|██████████| 500/500 [00:32<00:00, 15.32it/s]\n"
     ]
    }
   ],
   "source": [
    "\n",
    "# Load data\n",
    "df = load_data(add_day_parts=True, same_value_operations=[('site_id', 'price_usd', 'avg'), ('srch_id', 'price_usd', 'avg')], fts_operations=[('prop_starrating', 'visitor_hist_starrating', 'diff')], add_seasons=True)"
   ]
  },
  {
   "cell_type": "code",
   "execution_count": 3,
   "metadata": {},
   "outputs": [],
   "source": [
    "# Split into target and predictors\n",
    "y = df['booking_bool']\n",
    "X = df.drop(['booking_bool','click_bool', 'position', 'gross_bookings_usd', 'date_time'], axis=1)\n",
    "X = X.fillna(X.mean())\n",
    "del df"
   ]
  },
  {
   "cell_type": "code",
   "execution_count": 5,
   "metadata": {},
   "outputs": [],
   "source": [
    "# Set up stakcing regressor\n",
    "# rf = RandomForestRegressor()\n",
    "# rf= StackingRegressor([('rf',RandomForestRegressor()), ('br',BayesianRidge()), ('ab',AdaBoostRegressor())], verbose=3, n_jobs=7)\n",
    "rf=RandomForestRegressor()\n",
    "rf.fit(X, y)"
   ]
  },
  {
   "cell_type": "code",
   "execution_count": null,
   "metadata": {},
   "outputs": [],
   "source": [
    "del y\n",
    "\n",
    "# Split \n",
    "test = load_data(mode='our_test', add_day_parts=True, same_value_operations=[('site_id', 'price_usd', 'avg'), ('srch_id', 'price_usd', 'avg')], fts_operations=[('prop_starrating', 'visitor_hist_starrating', 'diff')], add_seasons=True)\n",
    "\n",
    "# X_train, X_test, y_train, y_test = train_test_split(X, y)\n",
    "X_test = test.drop('date_time', axis=1)\n",
    "X_test = X_test.fillna(X.mean()) #Mean of x or mean of x_test?\n",
    "del X"
   ]
  },
  {
   "cell_type": "code",
   "execution_count": null,
   "metadata": {},
   "outputs": [],
   "source": [
    "# Evaluate\n",
    "preds = rf.predict(X_test)\n",
    "\n",
    "# [print(a,b, c) for a,b, c in zip(test['srch_id'], test['prop_id'],preds)]\n",
    "\n",
    "ranking = to_ranking(X_test, preds)\n",
    "score = gcbs(ranking, test)\n",
    "ranking.to_csv('test_ranking.csv', index=False)\n",
    "\n",
    "# mse = mean_squared_error(y_test, preds)\n",
    "# mae = mean_absolute_error(y_test, preds)\n",
    "# print('\\nerrors\\n\\n', mse, mae)"
   ]
  }
 ],
 "metadata": {
  "interpreter": {
   "hash": "d532e8952df537b50de3bd4c05b7ea6521853c70a8506ea5ed19af6d973f7b4a"
  },
  "kernelspec": {
   "display_name": "Python 3.9.0 ('.venv': venv)",
   "language": "python",
   "name": "python3"
  },
  "language_info": {
   "codemirror_mode": {
    "name": "ipython",
    "version": 3
   },
   "file_extension": ".py",
   "mimetype": "text/x-python",
   "name": "python",
   "nbconvert_exporter": "python",
   "pygments_lexer": "ipython3",
   "version": "3.8.3"
  },
  "orig_nbformat": 4
 },
 "nbformat": 4,
 "nbformat_minor": 2
}
